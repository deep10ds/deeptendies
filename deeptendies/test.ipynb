{
 "metadata": {
  "language_info": {
   "codemirror_mode": {
    "name": "ipython",
    "version": 3
   },
   "file_extension": ".py",
   "mimetype": "text/x-python",
   "name": "python",
   "nbconvert_exporter": "python",
   "pygments_lexer": "ipython3",
   "version": "3.8.5"
  },
  "orig_nbformat": 2,
  "kernelspec": {
   "name": "python3",
   "display_name": "Python 3",
   "language": "python"
  }
 },
 "nbformat": 4,
 "nbformat_minor": 2,
 "cells": [
  {
   "cell_type": "code",
   "execution_count": 2,
   "metadata": {},
   "outputs": [],
   "source": [
    "import finnhub"
   ]
  },
  {
   "cell_type": "code",
   "execution_count": 5,
   "metadata": {},
   "outputs": [],
   "source": [
    "import yaml \n",
    "import os \n",
    "\n",
    "def get_api_key(fname): \n",
    "    fpath = os.path.abspath(os.path.join(os.path.dirname(__file__), \"..\", fname))\n",
    "    print(fpath)\n",
    "    with open(fname) as f: \n",
    "        credentials = yaml.safe_load(f)\n",
    "        return credentials['finnhub-apikey']"
   ]
  },
  {
   "cell_type": "code",
   "execution_count": 4,
   "metadata": {},
   "outputs": [
    {
     "output_type": "error",
     "ename": "NameError",
     "evalue": "name '__file__' is not defined",
     "traceback": [
      "\u001b[1;31m---------------------------------------------------------------------------\u001b[0m",
      "\u001b[1;31mNameError\u001b[0m                                 Traceback (most recent call last)",
      "\u001b[1;32m<ipython-input-4-383f69849243>\u001b[0m in \u001b[0;36m<module>\u001b[1;34m\u001b[0m\n\u001b[0;32m      1\u001b[0m \u001b[1;32mimport\u001b[0m \u001b[0mos\u001b[0m\u001b[1;33m\u001b[0m\u001b[1;33m\u001b[0m\u001b[0m\n\u001b[0;32m      2\u001b[0m \u001b[1;33m\u001b[0m\u001b[0m\n\u001b[1;32m----> 3\u001b[1;33m \u001b[0mapi_key\u001b[0m \u001b[1;33m=\u001b[0m \u001b[0mget_api_key\u001b[0m\u001b[1;33m(\u001b[0m\u001b[1;34m\"test\"\u001b[0m\u001b[1;33m)\u001b[0m\u001b[1;33m\u001b[0m\u001b[1;33m\u001b[0m\u001b[0m\n\u001b[0m",
      "\u001b[1;32m<ipython-input-3-0bc32e14614d>\u001b[0m in \u001b[0;36mget_api_key\u001b[1;34m(fname)\u001b[0m\n\u001b[0;32m      3\u001b[0m \u001b[1;33m\u001b[0m\u001b[0m\n\u001b[0;32m      4\u001b[0m \u001b[1;32mdef\u001b[0m \u001b[0mget_api_key\u001b[0m\u001b[1;33m(\u001b[0m\u001b[0mfname\u001b[0m\u001b[1;33m)\u001b[0m\u001b[1;33m:\u001b[0m\u001b[1;33m\u001b[0m\u001b[1;33m\u001b[0m\u001b[0m\n\u001b[1;32m----> 5\u001b[1;33m     \u001b[0mfpath\u001b[0m \u001b[1;33m=\u001b[0m \u001b[0mos\u001b[0m\u001b[1;33m.\u001b[0m\u001b[0mpath\u001b[0m\u001b[1;33m.\u001b[0m\u001b[0mabspath\u001b[0m\u001b[1;33m(\u001b[0m\u001b[0mos\u001b[0m\u001b[1;33m.\u001b[0m\u001b[0mpath\u001b[0m\u001b[1;33m.\u001b[0m\u001b[0mjoin\u001b[0m\u001b[1;33m(\u001b[0m\u001b[0mos\u001b[0m\u001b[1;33m.\u001b[0m\u001b[0mpath\u001b[0m\u001b[1;33m.\u001b[0m\u001b[0mdirname\u001b[0m\u001b[1;33m(\u001b[0m\u001b[0m__file__\u001b[0m\u001b[1;33m)\u001b[0m\u001b[1;33m,\u001b[0m \u001b[1;34m\"..\"\u001b[0m\u001b[1;33m,\u001b[0m \u001b[0mfname\u001b[0m\u001b[1;33m)\u001b[0m\u001b[1;33m)\u001b[0m\u001b[1;33m\u001b[0m\u001b[1;33m\u001b[0m\u001b[0m\n\u001b[0m\u001b[0;32m      6\u001b[0m     \u001b[0mprint\u001b[0m\u001b[1;33m(\u001b[0m\u001b[0mfpath\u001b[0m\u001b[1;33m)\u001b[0m\u001b[1;33m\u001b[0m\u001b[1;33m\u001b[0m\u001b[0m\n\u001b[0;32m      7\u001b[0m     \u001b[1;32mwith\u001b[0m \u001b[0mopen\u001b[0m\u001b[1;33m(\u001b[0m\u001b[0mfname\u001b[0m\u001b[1;33m)\u001b[0m \u001b[1;32mas\u001b[0m \u001b[0mf\u001b[0m\u001b[1;33m:\u001b[0m\u001b[1;33m\u001b[0m\u001b[1;33m\u001b[0m\u001b[0m\n",
      "\u001b[1;31mNameError\u001b[0m: name '__file__' is not defined"
     ]
    }
   ],
   "source": [
    "import os\n",
    "\n",
    "api_key = get_api_key(\"test\")\n"
   ]
  },
  {
   "cell_type": "code",
   "execution_count": 6,
   "metadata": {},
   "outputs": [
    {
     "output_type": "error",
     "ename": "TypeError",
     "evalue": "join() missing 1 required positional argument: 'path'",
     "traceback": [
      "\u001b[1;31m---------------------------------------------------------------------------\u001b[0m",
      "\u001b[1;31mTypeError\u001b[0m                                 Traceback (most recent call last)",
      "\u001b[1;32m<ipython-input-6-6e895a851626>\u001b[0m in \u001b[0;36m<module>\u001b[1;34m\u001b[0m\n\u001b[0;32m      2\u001b[0m \u001b[1;33m\u001b[0m\u001b[0m\n\u001b[0;32m      3\u001b[0m \u001b[1;33m\u001b[0m\u001b[0m\n\u001b[1;32m----> 4\u001b[1;33m \u001b[0mos\u001b[0m\u001b[1;33m.\u001b[0m\u001b[0mpath\u001b[0m\u001b[1;33m.\u001b[0m\u001b[0mjoin\u001b[0m\u001b[1;33m(\u001b[0m\u001b[1;33m)\u001b[0m\u001b[1;33m\u001b[0m\u001b[1;33m\u001b[0m\u001b[0m\n\u001b[0m",
      "\u001b[1;31mTypeError\u001b[0m: join() missing 1 required positional argument: 'path'"
     ]
    }
   ],
   "source": [
    "import os.path\n",
    "\n",
    "\n",
    "os.path.join()"
   ]
  },
  {
   "cell_type": "code",
   "execution_count": 1,
   "metadata": {},
   "outputs": [],
   "source": [
    "from stock_data import StockData"
   ]
  },
  {
   "cell_type": "code",
   "execution_count": 2,
   "metadata": {},
   "outputs": [],
   "source": [
    "test_data = StockData('GME')"
   ]
  },
  {
   "cell_type": "code",
   "execution_count": 3,
   "metadata": {},
   "outputs": [
    {
     "output_type": "execute_result",
     "data": {
      "text/plain": [
       "            c         h        l        o   s          t         v  \\\n",
       "0      10.050   10.0600    9.525    9.625  ok 2002-02-13   9527000   \n",
       "1      10.000   10.1950    9.925   10.175  ok 2002-02-14   1400700   \n",
       "2       9.950   10.0250    9.850   10.000  ok 2002-02-15   1048700   \n",
       "3       9.550    9.9000    9.375    9.900  ok 2002-02-19    926300   \n",
       "4       9.875    9.8750    9.525    9.600  ok 2002-02-20    861600   \n",
       "...       ...       ...      ...      ...  ..        ...       ...   \n",
       "4809  181.750  201.7500  177.550  197.500  ok 2021-03-23  14429145   \n",
       "4810  120.340  166.9700  118.620  157.980  ok 2021-03-24  24177877   \n",
       "4811  183.750  187.5000  116.900  123.490  ok 2021-03-25  50962337   \n",
       "4812  181.000  218.9344  163.260  197.680  ok 2021-03-26  37430672   \n",
       "4813  181.300  193.9200  173.510  180.750  ok 2021-03-29  10011300   \n",
       "\n",
       "             wma  day_of_week  day_of_year  is_quarter_end  \n",
       "0       0.000000            2           44           False  \n",
       "1       0.000000            3           45           False  \n",
       "2       9.983333            4           46           False  \n",
       "3       9.758333            1           50           False  \n",
       "4       9.779167            2           51           False  \n",
       "...          ...          ...          ...             ...  \n",
       "4809  189.083333            1           82           False  \n",
       "4810  153.168333            2           83           False  \n",
       "4811  162.280000            3           84           False  \n",
       "4812  171.806667            4           85           False  \n",
       "4813  181.608333            0           88           False  \n",
       "\n",
       "[4814 rows x 11 columns]"
      ],
      "text/html": "<div>\n<style scoped>\n    .dataframe tbody tr th:only-of-type {\n        vertical-align: middle;\n    }\n\n    .dataframe tbody tr th {\n        vertical-align: top;\n    }\n\n    .dataframe thead th {\n        text-align: right;\n    }\n</style>\n<table border=\"1\" class=\"dataframe\">\n  <thead>\n    <tr style=\"text-align: right;\">\n      <th></th>\n      <th>c</th>\n      <th>h</th>\n      <th>l</th>\n      <th>o</th>\n      <th>s</th>\n      <th>t</th>\n      <th>v</th>\n      <th>wma</th>\n      <th>day_of_week</th>\n      <th>day_of_year</th>\n      <th>is_quarter_end</th>\n    </tr>\n  </thead>\n  <tbody>\n    <tr>\n      <th>0</th>\n      <td>10.050</td>\n      <td>10.0600</td>\n      <td>9.525</td>\n      <td>9.625</td>\n      <td>ok</td>\n      <td>2002-02-13</td>\n      <td>9527000</td>\n      <td>0.000000</td>\n      <td>2</td>\n      <td>44</td>\n      <td>False</td>\n    </tr>\n    <tr>\n      <th>1</th>\n      <td>10.000</td>\n      <td>10.1950</td>\n      <td>9.925</td>\n      <td>10.175</td>\n      <td>ok</td>\n      <td>2002-02-14</td>\n      <td>1400700</td>\n      <td>0.000000</td>\n      <td>3</td>\n      <td>45</td>\n      <td>False</td>\n    </tr>\n    <tr>\n      <th>2</th>\n      <td>9.950</td>\n      <td>10.0250</td>\n      <td>9.850</td>\n      <td>10.000</td>\n      <td>ok</td>\n      <td>2002-02-15</td>\n      <td>1048700</td>\n      <td>9.983333</td>\n      <td>4</td>\n      <td>46</td>\n      <td>False</td>\n    </tr>\n    <tr>\n      <th>3</th>\n      <td>9.550</td>\n      <td>9.9000</td>\n      <td>9.375</td>\n      <td>9.900</td>\n      <td>ok</td>\n      <td>2002-02-19</td>\n      <td>926300</td>\n      <td>9.758333</td>\n      <td>1</td>\n      <td>50</td>\n      <td>False</td>\n    </tr>\n    <tr>\n      <th>4</th>\n      <td>9.875</td>\n      <td>9.8750</td>\n      <td>9.525</td>\n      <td>9.600</td>\n      <td>ok</td>\n      <td>2002-02-20</td>\n      <td>861600</td>\n      <td>9.779167</td>\n      <td>2</td>\n      <td>51</td>\n      <td>False</td>\n    </tr>\n    <tr>\n      <th>...</th>\n      <td>...</td>\n      <td>...</td>\n      <td>...</td>\n      <td>...</td>\n      <td>...</td>\n      <td>...</td>\n      <td>...</td>\n      <td>...</td>\n      <td>...</td>\n      <td>...</td>\n      <td>...</td>\n    </tr>\n    <tr>\n      <th>4809</th>\n      <td>181.750</td>\n      <td>201.7500</td>\n      <td>177.550</td>\n      <td>197.500</td>\n      <td>ok</td>\n      <td>2021-03-23</td>\n      <td>14429145</td>\n      <td>189.083333</td>\n      <td>1</td>\n      <td>82</td>\n      <td>False</td>\n    </tr>\n    <tr>\n      <th>4810</th>\n      <td>120.340</td>\n      <td>166.9700</td>\n      <td>118.620</td>\n      <td>157.980</td>\n      <td>ok</td>\n      <td>2021-03-24</td>\n      <td>24177877</td>\n      <td>153.168333</td>\n      <td>2</td>\n      <td>83</td>\n      <td>False</td>\n    </tr>\n    <tr>\n      <th>4811</th>\n      <td>183.750</td>\n      <td>187.5000</td>\n      <td>116.900</td>\n      <td>123.490</td>\n      <td>ok</td>\n      <td>2021-03-25</td>\n      <td>50962337</td>\n      <td>162.280000</td>\n      <td>3</td>\n      <td>84</td>\n      <td>False</td>\n    </tr>\n    <tr>\n      <th>4812</th>\n      <td>181.000</td>\n      <td>218.9344</td>\n      <td>163.260</td>\n      <td>197.680</td>\n      <td>ok</td>\n      <td>2021-03-26</td>\n      <td>37430672</td>\n      <td>171.806667</td>\n      <td>4</td>\n      <td>85</td>\n      <td>False</td>\n    </tr>\n    <tr>\n      <th>4813</th>\n      <td>181.300</td>\n      <td>193.9200</td>\n      <td>173.510</td>\n      <td>180.750</td>\n      <td>ok</td>\n      <td>2021-03-29</td>\n      <td>10011300</td>\n      <td>181.608333</td>\n      <td>0</td>\n      <td>88</td>\n      <td>False</td>\n    </tr>\n  </tbody>\n</table>\n<p>4814 rows × 11 columns</p>\n</div>"
     },
     "metadata": {},
     "execution_count": 3
    }
   ],
   "source": [
    "test_data.df"
   ]
  }
 ]
}