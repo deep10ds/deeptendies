{
 "cells": [
  {
   "cell_type": "code",
   "execution_count": null,
   "id": "combined-sample",
   "metadata": {},
   "outputs": [],
   "source": [
    "finnhub_client = finnhub.Client(api_key=\"c10t49748v6o1us2neqg\")\n",
    "\"\"\"TODO: Create wrapper to get n days for XXX ticker \n",
    "\"\"\"\n",
    "current_time = calendar.timegm(time.gmtime()) #seconds since Unix epoch\n",
    "\n",
    "\n",
    "def x_days_ago(x):\n",
    "    x_days_ago = current_time - x*24*60*60\n",
    "    return x_days_ago;\n",
    "\n",
    "\n",
    "\n",
    "\n",
    "\n",
    "# Stock candles\n",
    "res = finnhub_client.stock_candles('JPM', 'D', time_one_hundred_days_ago, current_time)\n",
    "print(res)"
   ]
  }
 ],
 "metadata": {
  "kernelspec": {
   "display_name": "Python 3",
   "language": "python",
   "name": "python3"
  },
  "language_info": {
   "codemirror_mode": {
    "name": "ipython",
    "version": 3
   },
   "file_extension": ".py",
   "mimetype": "text/x-python",
   "name": "python",
   "nbconvert_exporter": "python",
   "pygments_lexer": "ipython3",
   "version": "3.8.5"
  }
 },
 "nbformat": 4,
 "nbformat_minor": 5
}
