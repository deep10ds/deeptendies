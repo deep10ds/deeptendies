{
 "cells": [
  {
   "cell_type": "code",
   "execution_count": 3,
   "metadata": {},
   "outputs": [],
   "source": [
    "import numpy as np\n",
    "import pandas as pd\n",
    "import matplotlib.pyplot as plt\n",
    "\n",
    "import sys\n",
    "sys.path.append(\"..\")\n",
    "from src.deeptendies.stock_data import StockData\n",
    "\n"
   ]
  },
  {
   "cell_type": "code",
   "execution_count": 22,
   "metadata": {},
   "outputs": [
    {
     "data": {
      "text/html": [
       "<div>\n",
       "<style scoped>\n",
       "    .dataframe tbody tr th:only-of-type {\n",
       "        vertical-align: middle;\n",
       "    }\n",
       "\n",
       "    .dataframe tbody tr th {\n",
       "        vertical-align: top;\n",
       "    }\n",
       "\n",
       "    .dataframe thead th {\n",
       "        text-align: right;\n",
       "    }\n",
       "</style>\n",
       "<table border=\"1\" class=\"dataframe\">\n",
       "  <thead>\n",
       "    <tr style=\"text-align: right;\">\n",
       "      <th></th>\n",
       "      <th>c</th>\n",
       "      <th>h</th>\n",
       "      <th>l</th>\n",
       "      <th>o</th>\n",
       "      <th>s</th>\n",
       "      <th>t</th>\n",
       "      <th>v</th>\n",
       "      <th>wma</th>\n",
       "    </tr>\n",
       "  </thead>\n",
       "  <tbody>\n",
       "    <tr>\n",
       "      <th>0</th>\n",
       "      <td>64.8575</td>\n",
       "      <td>67.9250</td>\n",
       "      <td>64.7500</td>\n",
       "      <td>67.7000</td>\n",
       "      <td>ok</td>\n",
       "      <td>2020-04-07 00:00:00</td>\n",
       "      <td>50721831</td>\n",
       "      <td>0.000000</td>\n",
       "    </tr>\n",
       "    <tr>\n",
       "      <th>1</th>\n",
       "      <td>66.5175</td>\n",
       "      <td>66.8425</td>\n",
       "      <td>65.3075</td>\n",
       "      <td>65.6850</td>\n",
       "      <td>ok</td>\n",
       "      <td>2020-04-08 00:00:00</td>\n",
       "      <td>42223821</td>\n",
       "      <td>0.000000</td>\n",
       "    </tr>\n",
       "    <tr>\n",
       "      <th>2</th>\n",
       "      <td>66.9975</td>\n",
       "      <td>67.5175</td>\n",
       "      <td>66.1750</td>\n",
       "      <td>67.1750</td>\n",
       "      <td>ok</td>\n",
       "      <td>2020-04-09 00:00:00</td>\n",
       "      <td>40529123</td>\n",
       "      <td>66.480833</td>\n",
       "    </tr>\n",
       "    <tr>\n",
       "      <th>3</th>\n",
       "      <td>68.3125</td>\n",
       "      <td>68.4250</td>\n",
       "      <td>66.4575</td>\n",
       "      <td>67.0775</td>\n",
       "      <td>ok</td>\n",
       "      <td>2020-04-13 00:00:00</td>\n",
       "      <td>32755731</td>\n",
       "      <td>67.575000</td>\n",
       "    </tr>\n",
       "    <tr>\n",
       "      <th>4</th>\n",
       "      <td>71.7625</td>\n",
       "      <td>72.0625</td>\n",
       "      <td>69.5125</td>\n",
       "      <td>70.0000</td>\n",
       "      <td>ok</td>\n",
       "      <td>2020-04-14 00:00:00</td>\n",
       "      <td>48748672</td>\n",
       "      <td>69.818333</td>\n",
       "    </tr>\n",
       "    <tr>\n",
       "      <th>...</th>\n",
       "      <td>...</td>\n",
       "      <td>...</td>\n",
       "      <td>...</td>\n",
       "      <td>...</td>\n",
       "      <td>...</td>\n",
       "      <td>...</td>\n",
       "      <td>...</td>\n",
       "      <td>...</td>\n",
       "    </tr>\n",
       "    <tr>\n",
       "      <th>247</th>\n",
       "      <td>122.1500</td>\n",
       "      <td>123.5200</td>\n",
       "      <td>121.1500</td>\n",
       "      <td>121.6500</td>\n",
       "      <td>ok</td>\n",
       "      <td>2021-03-31 00:00:00</td>\n",
       "      <td>118323826</td>\n",
       "      <td>121.273333</td>\n",
       "    </tr>\n",
       "    <tr>\n",
       "      <th>248</th>\n",
       "      <td>123.0000</td>\n",
       "      <td>124.1800</td>\n",
       "      <td>122.4900</td>\n",
       "      <td>123.6600</td>\n",
       "      <td>ok</td>\n",
       "      <td>2021-04-01 00:00:00</td>\n",
       "      <td>75089134</td>\n",
       "      <td>122.200000</td>\n",
       "    </tr>\n",
       "    <tr>\n",
       "      <th>249</th>\n",
       "      <td>125.9000</td>\n",
       "      <td>126.1601</td>\n",
       "      <td>123.0700</td>\n",
       "      <td>123.8700</td>\n",
       "      <td>ok</td>\n",
       "      <td>2021-04-05 00:00:00</td>\n",
       "      <td>88651175</td>\n",
       "      <td>124.308333</td>\n",
       "    </tr>\n",
       "    <tr>\n",
       "      <th>250</th>\n",
       "      <td>126.2100</td>\n",
       "      <td>127.1300</td>\n",
       "      <td>125.6500</td>\n",
       "      <td>126.5000</td>\n",
       "      <td>ok</td>\n",
       "      <td>2021-04-06 00:00:00</td>\n",
       "      <td>79463200</td>\n",
       "      <td>125.571667</td>\n",
       "    </tr>\n",
       "    <tr>\n",
       "      <th>251</th>\n",
       "      <td>127.9000</td>\n",
       "      <td>127.9200</td>\n",
       "      <td>125.1400</td>\n",
       "      <td>125.8300</td>\n",
       "      <td>ok</td>\n",
       "      <td>2021-04-07 13:30:00</td>\n",
       "      <td>80687411</td>\n",
       "      <td>127.003333</td>\n",
       "    </tr>\n",
       "  </tbody>\n",
       "</table>\n",
       "<p>252 rows × 8 columns</p>\n",
       "</div>"
      ],
      "text/plain": [
       "            c         h         l         o   s                   t  \\\n",
       "0     64.8575   67.9250   64.7500   67.7000  ok 2020-04-07 00:00:00   \n",
       "1     66.5175   66.8425   65.3075   65.6850  ok 2020-04-08 00:00:00   \n",
       "2     66.9975   67.5175   66.1750   67.1750  ok 2020-04-09 00:00:00   \n",
       "3     68.3125   68.4250   66.4575   67.0775  ok 2020-04-13 00:00:00   \n",
       "4     71.7625   72.0625   69.5125   70.0000  ok 2020-04-14 00:00:00   \n",
       "..        ...       ...       ...       ...  ..                 ...   \n",
       "247  122.1500  123.5200  121.1500  121.6500  ok 2021-03-31 00:00:00   \n",
       "248  123.0000  124.1800  122.4900  123.6600  ok 2021-04-01 00:00:00   \n",
       "249  125.9000  126.1601  123.0700  123.8700  ok 2021-04-05 00:00:00   \n",
       "250  126.2100  127.1300  125.6500  126.5000  ok 2021-04-06 00:00:00   \n",
       "251  127.9000  127.9200  125.1400  125.8300  ok 2021-04-07 13:30:00   \n",
       "\n",
       "             v         wma  \n",
       "0     50721831    0.000000  \n",
       "1     42223821    0.000000  \n",
       "2     40529123   66.480833  \n",
       "3     32755731   67.575000  \n",
       "4     48748672   69.818333  \n",
       "..         ...         ...  \n",
       "247  118323826  121.273333  \n",
       "248   75089134  122.200000  \n",
       "249   88651175  124.308333  \n",
       "250   79463200  125.571667  \n",
       "251   80687411  127.003333  \n",
       "\n",
       "[252 rows x 8 columns]"
      ]
     },
     "execution_count": 22,
     "metadata": {},
     "output_type": "execute_result"
    }
   ],
   "source": [
    "test_data = StockData('AAPL', days=365)\n",
    "\n",
    "test_data.df"
   ]
  },
  {
   "cell_type": "code",
   "execution_count": 19,
   "metadata": {},
   "outputs": [
    {
     "data": {
      "text/plain": [
       "Index(['c', 'h', 'l', 'o', 's', 't', 'v', 'wma'], dtype='object')"
      ]
     },
     "execution_count": 19,
     "metadata": {},
     "output_type": "execute_result"
    }
   ],
   "source": [
    "test_data.df.columns"
   ]
  },
  {
   "cell_type": "code",
   "execution_count": 26,
   "metadata": {},
   "outputs": [
    {
     "name": "stdout",
     "output_type": "stream",
     "text": [
      "            c                   t\n",
      "0     64.8575 2020-04-07 00:00:00\n",
      "1     66.5175 2020-04-08 00:00:00\n",
      "2     66.9975 2020-04-09 00:00:00\n",
      "3     68.3125 2020-04-13 00:00:00\n",
      "4     71.7625 2020-04-14 00:00:00\n",
      "..        ...                 ...\n",
      "247  122.1500 2021-03-31 00:00:00\n",
      "248  123.0000 2021-04-01 00:00:00\n",
      "249  125.9000 2021-04-05 00:00:00\n",
      "250  126.2100 2021-04-06 00:00:00\n",
      "251  127.9000 2021-04-07 13:30:00\n",
      "\n",
      "[252 rows x 2 columns]\n"
     ]
    }
   ],
   "source": [
    "time_series = test_data.df.drop(['h', 'l', 'o', 's', 'v', 'wma'], axis='columns')\n",
    "print(time_series)"
   ]
  },
  {
   "cell_type": "code",
   "execution_count": 27,
   "metadata": {},
   "outputs": [
    {
     "data": {
      "text/plain": [
       "c           float64\n",
       "t    datetime64[ns]\n",
       "dtype: object"
      ]
     },
     "execution_count": 27,
     "metadata": {},
     "output_type": "execute_result"
    }
   ],
   "source": [
    "time_series.dtypes"
   ]
  },
  {
   "cell_type": "code",
   "execution_count": 28,
   "metadata": {},
   "outputs": [],
   "source": [
    "time_series = time_series.set_index('t')"
   ]
  },
  {
   "cell_type": "code",
   "execution_count": 29,
   "metadata": {},
   "outputs": [
    {
     "data": {
      "text/html": [
       "<div>\n",
       "<style scoped>\n",
       "    .dataframe tbody tr th:only-of-type {\n",
       "        vertical-align: middle;\n",
       "    }\n",
       "\n",
       "    .dataframe tbody tr th {\n",
       "        vertical-align: top;\n",
       "    }\n",
       "\n",
       "    .dataframe thead th {\n",
       "        text-align: right;\n",
       "    }\n",
       "</style>\n",
       "<table border=\"1\" class=\"dataframe\">\n",
       "  <thead>\n",
       "    <tr style=\"text-align: right;\">\n",
       "      <th></th>\n",
       "      <th>c</th>\n",
       "    </tr>\n",
       "    <tr>\n",
       "      <th>t</th>\n",
       "      <th></th>\n",
       "    </tr>\n",
       "  </thead>\n",
       "  <tbody>\n",
       "    <tr>\n",
       "      <th>2020-04-07 00:00:00</th>\n",
       "      <td>64.8575</td>\n",
       "    </tr>\n",
       "    <tr>\n",
       "      <th>2020-04-08 00:00:00</th>\n",
       "      <td>66.5175</td>\n",
       "    </tr>\n",
       "    <tr>\n",
       "      <th>2020-04-09 00:00:00</th>\n",
       "      <td>66.9975</td>\n",
       "    </tr>\n",
       "    <tr>\n",
       "      <th>2020-04-13 00:00:00</th>\n",
       "      <td>68.3125</td>\n",
       "    </tr>\n",
       "    <tr>\n",
       "      <th>2020-04-14 00:00:00</th>\n",
       "      <td>71.7625</td>\n",
       "    </tr>\n",
       "    <tr>\n",
       "      <th>...</th>\n",
       "      <td>...</td>\n",
       "    </tr>\n",
       "    <tr>\n",
       "      <th>2021-03-31 00:00:00</th>\n",
       "      <td>122.1500</td>\n",
       "    </tr>\n",
       "    <tr>\n",
       "      <th>2021-04-01 00:00:00</th>\n",
       "      <td>123.0000</td>\n",
       "    </tr>\n",
       "    <tr>\n",
       "      <th>2021-04-05 00:00:00</th>\n",
       "      <td>125.9000</td>\n",
       "    </tr>\n",
       "    <tr>\n",
       "      <th>2021-04-06 00:00:00</th>\n",
       "      <td>126.2100</td>\n",
       "    </tr>\n",
       "    <tr>\n",
       "      <th>2021-04-07 13:30:00</th>\n",
       "      <td>127.9000</td>\n",
       "    </tr>\n",
       "  </tbody>\n",
       "</table>\n",
       "<p>252 rows × 1 columns</p>\n",
       "</div>"
      ],
      "text/plain": [
       "                            c\n",
       "t                            \n",
       "2020-04-07 00:00:00   64.8575\n",
       "2020-04-08 00:00:00   66.5175\n",
       "2020-04-09 00:00:00   66.9975\n",
       "2020-04-13 00:00:00   68.3125\n",
       "2020-04-14 00:00:00   71.7625\n",
       "...                       ...\n",
       "2021-03-31 00:00:00  122.1500\n",
       "2021-04-01 00:00:00  123.0000\n",
       "2021-04-05 00:00:00  125.9000\n",
       "2021-04-06 00:00:00  126.2100\n",
       "2021-04-07 13:30:00  127.9000\n",
       "\n",
       "[252 rows x 1 columns]"
      ]
     },
     "execution_count": 29,
     "metadata": {},
     "output_type": "execute_result"
    }
   ],
   "source": [
    "time_series"
   ]
  },
  {
   "cell_type": "code",
   "execution_count": 37,
   "metadata": {},
   "outputs": [],
   "source": [
    "y = time_series['c'].resample('D').fillna('ffill')"
   ]
  },
  {
   "cell_type": "code",
   "execution_count": 38,
   "metadata": {},
   "outputs": [
    {
     "data": {
      "text/plain": [
       "t\n",
       "2020-04-07     64.8575\n",
       "2020-04-08     66.5175\n",
       "2020-04-09     66.9975\n",
       "2020-04-10     66.9975\n",
       "2020-04-11     66.9975\n",
       "                ...   \n",
       "2021-04-03    123.0000\n",
       "2021-04-04    123.0000\n",
       "2021-04-05    125.9000\n",
       "2021-04-06    126.2100\n",
       "2021-04-07    126.2100\n",
       "Freq: D, Name: c, Length: 366, dtype: float64"
      ]
     },
     "execution_count": 38,
     "metadata": {},
     "output_type": "execute_result"
    }
   ],
   "source": [
    "y"
   ]
  },
  {
   "cell_type": "code",
   "execution_count": 49,
   "metadata": {},
   "outputs": [
    {
     "data": {
      "image/png": "[encoded data removed]",
      "text/plain": [
       "<Figure size 1296x576 with 4 Axes>"
      ]
     },
     "metadata": {
      "needs_background": "light"
     },
     "output_type": "display_data"
    }
   ],
   "source": [
    "import matplotlib\n",
    "import statsmodels.api as sm\n",
    "\n",
    "matplotlib.rcParams['axes.labelsize'] = 14\n",
    "matplotlib.rcParams['xtick.labelsize'] = 12\n",
    "matplotlib.rcParams['ytick.labelsize'] = 12\n",
    "matplotlib.rcParams['text.color'] = 'k'\n",
    "\n",
    "from pylab import rcParams\n",
    "rcParams['figure.figsize'] = 18, 8\n",
    "decomposition = sm.tsa.seasonal_decompose(y)\n",
    "fig = decomposition.plot()\n",
    "plt.show()"
   ]
  },
  {
   "cell_type": "code",
   "execution_count": 50,
   "metadata": {},
   "outputs": [
    {
     "name": "stdout",
     "output_type": "stream",
     "text": [
      "Examples of parameter combinations for Seasonal ARIMA...\n",
      "SARIMAX: (0, 0, 1) x (0, 0, 1, 12)\n",
      "SARIMAX: (0, 0, 1) x (0, 1, 0, 12)\n",
      "SARIMAX: (0, 1, 0) x (0, 1, 1, 12)\n",
      "SARIMAX: (0, 1, 0) x (1, 0, 0, 12)\n"
     ]
    }
   ],
   "source": [
    "import itertools\n",
    "\n",
    "p = d = q = range(0, 2)\n",
    "pdq = list(itertools.product(p, d, q))\n",
    "seasonal_pdq = [(x[0], x[1], x[2], 12) for x in list(itertools.product(p, d, q))]\n",
    "\n",
    "print('Examples of parameter combinations for Seasonal ARIMA...')\n",
    "print('SARIMAX: {} x {}'.format(pdq[1], seasonal_pdq[1]))\n",
    "print('SARIMAX: {} x {}'.format(pdq[1], seasonal_pdq[2]))\n",
    "print('SARIMAX: {} x {}'.format(pdq[2], seasonal_pdq[3]))\n",
    "print('SARIMAX: {} x {}'.format(pdq[2], seasonal_pdq[4]))"
   ]
  },
  {
   "cell_type": "code",
   "execution_count": 51,
   "metadata": {},
   "outputs": [
    {
     "name": "stdout",
     "output_type": "stream",
     "text": [
      "ARIMA(0, 0, 0)x(0, 0, 0, 12)12 - AIC:4480.09525265698\n",
      "ARIMA(0, 0, 0)x(0, 0, 1, 12)12 - AIC:3923.200000998214\n",
      "ARIMA(0, 0, 0)x(0, 1, 0, 12)12 - AIC:2344.4579618330554\n",
      "ARIMA(0, 0, 0)x(0, 1, 1, 12)12 - AIC:2277.4237900431726\n",
      "ARIMA(0, 0, 0)x(1, 0, 0, 12)12 - AIC:2337.208488657603\n",
      "ARIMA(0, 0, 0)x(1, 0, 1, 12)12 - AIC:2332.498194878058\n",
      "ARIMA(0, 0, 0)x(1, 1, 0, 12)12 - AIC:2283.125736351284\n",
      "ARIMA(0, 0, 0)x(1, 1, 1, 12)12 - AIC:2247.262122727599\n",
      "ARIMA(0, 0, 1)x(0, 0, 0, 12)12 - AIC:3980.312465097106\n",
      "ARIMA(0, 0, 1)x(0, 0, 1, 12)12 - AIC:3449.294295618416\n",
      "ARIMA(0, 0, 1)x(0, 1, 0, 12)12 - AIC:2059.5074586697474\n",
      "ARIMA(0, 0, 1)x(0, 1, 1, 12)12 - AIC:1995.5709807183102\n",
      "ARIMA(0, 0, 1)x(1, 0, 0, 12)12 - AIC:2062.4716882319126\n",
      "ARIMA(0, 0, 1)x(1, 0, 1, 12)12 - AIC:2042.9067756132415\n",
      "ARIMA(0, 0, 1)x(1, 1, 0, 12)12 - AIC:2005.747757839742\n",
      "ARIMA(0, 0, 1)x(1, 1, 1, 12)12 - AIC:1996.3221751416702\n",
      "ARIMA(0, 1, 0)x(0, 0, 0, 12)12 - AIC:1578.4854619513933\n",
      "ARIMA(0, 1, 0)x(0, 0, 1, 12)12 - AIC:1536.4445631230099\n",
      "ARIMA(0, 1, 0)x(0, 1, 0, 12)12 - AIC:1779.4733781473988\n",
      "ARIMA(0, 1, 0)x(0, 1, 1, 12)12 - AIC:1513.6225146212319\n",
      "ARIMA(0, 1, 0)x(1, 0, 0, 12)12 - AIC:1540.2648051397382\n",
      "ARIMA(0, 1, 0)x(1, 0, 1, 12)12 - AIC:1538.3152747180557\n",
      "ARIMA(0, 1, 0)x(1, 1, 0, 12)12 - AIC:1613.8263555537442\n",
      "ARIMA(0, 1, 0)x(1, 1, 1, 12)12 - AIC:1515.622297515735\n",
      "ARIMA(0, 1, 1)x(0, 0, 0, 12)12 - AIC:1575.6864749718297\n",
      "ARIMA(0, 1, 1)x(0, 0, 1, 12)12 - AIC:1532.555504151669\n",
      "ARIMA(0, 1, 1)x(0, 1, 0, 12)12 - AIC:1774.1598124891245\n",
      "ARIMA(0, 1, 1)x(0, 1, 1, 12)12 - AIC:1511.3197876624445\n",
      "ARIMA(0, 1, 1)x(1, 0, 0, 12)12 - AIC:1540.8243407299763\n",
      "ARIMA(0, 1, 1)x(1, 0, 1, 12)12 - AIC:1534.5215242872164\n",
      "ARIMA(0, 1, 1)x(1, 1, 0, 12)12 - AIC:1613.4772216780893\n",
      "ARIMA(0, 1, 1)x(1, 1, 1, 12)12 - AIC:1513.319533054816\n",
      "ARIMA(1, 0, 0)x(0, 0, 0, 12)12 - AIC:1583.1696289588995\n",
      "ARIMA(1, 0, 0)x(0, 0, 1, 12)12 - AIC:1541.19750976159\n",
      "ARIMA(1, 0, 0)x(0, 1, 0, 12)12 - AIC:1767.9500730751065\n",
      "ARIMA(1, 0, 0)x(0, 1, 1, 12)12 - AIC:1515.499698143213\n",
      "ARIMA(1, 0, 0)x(1, 0, 0, 12)12 - AIC:1541.1788338801343\n",
      "ARIMA(1, 0, 0)x(1, 0, 1, 12)12 - AIC:1542.859401381348\n",
      "ARIMA(1, 0, 0)x(1, 1, 0, 12)12 - AIC:1606.4015890529442\n",
      "ARIMA(1, 0, 0)x(1, 1, 1, 12)12 - AIC:1517.4995357873786\n",
      "ARIMA(1, 0, 1)x(0, 0, 0, 12)12 - AIC:1579.6200218883173\n",
      "ARIMA(1, 0, 1)x(0, 0, 1, 12)12 - AIC:1537.5572320269393\n",
      "ARIMA(1, 0, 1)x(0, 1, 0, 12)12 - AIC:1764.9140705950904\n",
      "ARIMA(1, 0, 1)x(0, 1, 1, 12)12 - AIC:1513.447604179892\n",
      "ARIMA(1, 0, 1)x(1, 0, 0, 12)12 - AIC:1541.5224721451834\n",
      "ARIMA(1, 0, 1)x(1, 0, 1, 12)12 - AIC:1539.446746414812\n",
      "ARIMA(1, 0, 1)x(1, 1, 0, 12)12 - AIC:1607.3639045670782\n",
      "ARIMA(1, 0, 1)x(1, 1, 1, 12)12 - AIC:1515.4472453844246\n",
      "ARIMA(1, 1, 0)x(0, 0, 0, 12)12 - AIC:1579.0772664474432\n",
      "ARIMA(1, 1, 0)x(0, 0, 1, 12)12 - AIC:1536.990562601905\n",
      "ARIMA(1, 1, 0)x(0, 1, 0, 12)12 - AIC:1779.2592880991328\n",
      "ARIMA(1, 1, 0)x(0, 1, 1, 12)12 - AIC:1515.0817047321793\n",
      "ARIMA(1, 1, 0)x(1, 0, 0, 12)12 - AIC:1536.991565870997\n",
      "ARIMA(1, 1, 0)x(1, 0, 1, 12)12 - AIC:1538.899115567056\n",
      "ARIMA(1, 1, 0)x(1, 1, 0, 12)12 - AIC:1609.8027322135033\n",
      "ARIMA(1, 1, 0)x(1, 1, 1, 12)12 - AIC:1517.081700838875\n",
      "ARIMA(1, 1, 1)x(0, 0, 0, 12)12 - AIC:1577.5934113758353\n",
      "ARIMA(1, 1, 1)x(0, 0, 1, 12)12 - AIC:1534.5095545407253\n",
      "ARIMA(1, 1, 1)x(0, 1, 0, 12)12 - AIC:1775.298053474099\n",
      "ARIMA(1, 1, 1)x(0, 1, 1, 12)12 - AIC:1513.044961021797\n",
      "ARIMA(1, 1, 1)x(1, 0, 0, 12)12 - AIC:1538.940659444033\n",
      "ARIMA(1, 1, 1)x(1, 0, 1, 12)12 - AIC:1536.4619442603641\n",
      "ARIMA(1, 1, 1)x(1, 1, 0, 12)12 - AIC:1611.342684031156\n",
      "ARIMA(1, 1, 1)x(1, 1, 1, 12)12 - AIC:1515.044795613434\n"
     ]
    }
   ],
   "source": [
    "for param in pdq:\n",
    "    for param_seasonal in seasonal_pdq:\n",
    "        try:\n",
    "            mod = sm.tsa.statespace.SARIMAX(y,\n",
    "                                            order=param,\n",
    "                                            seasonal_order=param_seasonal,\n",
    "                                            enforce_stationarity=False,\n",
    "                                            enforce_invertibility=False)\n",
    "            results = mod.fit()\n",
    "            print('ARIMA{}x{}12 - AIC:{}'.format(param, param_seasonal, results.aic))\n",
    "        except:\n",
    "            continue"
   ]
  },
  {
   "cell_type": "code",
   "execution_count": 54,
   "metadata": {},
   "outputs": [
    {
     "name": "stdout",
     "output_type": "stream",
     "text": [
      "==============================================================================\n",
      "                 coef    std err          z      P>|z|      [0.025      0.975]\n",
      "------------------------------------------------------------------------------\n",
      "ar.L1          0.3877      0.449      0.864      0.388      -0.492       1.268\n",
      "ma.L1         -0.4708      0.430     -1.094      0.274      -1.314       0.373\n",
      "ar.S.L12      -0.5419      0.041    -13.249      0.000      -0.622      -0.462\n",
      "sigma2         6.5393      0.364     17.988      0.000       5.827       7.252\n",
      "==============================================================================\n"
     ]
    }
   ],
   "source": [
    "mod = sm.tsa.statespace.SARIMAX(y,\n",
    "                              \n",
    "                                order=(1, 1, 1),\n",
    "                                seasonal_order=(1, 1, 0, 12),\n",
    "                                enforce_stationarity=False,\n",
    "                                enforce_invertibility=False)\n",
    "results = mod.fit()\n",
    "print(results.summary().tables[1])"
   ]
  },
  {
   "cell_type": "code",
   "execution_count": 61,
   "metadata": {},
   "outputs": [
    {
     "data": {
      "image/png": "[encoded data removed]",
      "text/plain": [
       "<Figure size 1008x504 with 1 Axes>"
      ]
     },
     "metadata": {
      "needs_background": "light"
     },
     "output_type": "display_data"
    }
   ],
   "source": [
    "pred_uc = results.get_forecast(steps=30)\n",
    "pred_ci = pred_uc.conf_int(alpha=0.95)\n",
    "\n",
    "ax = y.plot(label='observed', figsize=(14, 7))\n",
    "pred_uc.predicted_mean.plot(ax=ax, label='Forecast')\n",
    "\n",
    "ax.fill_between(pred_ci.index, pred_ci.iloc[:, 0], pred_ci.iloc[:, 1], color='k', alpha=.05)\n",
    "\n",
    "ax.set_xlabel('Date')\n",
    "ax.set_ylabel('Closing Price Prediction')\n",
    "\n",
    "plt.legend()\n",
    "plt.show()"
   ]
  },
  {
   "cell_type": "code",
   "execution_count": 48,
   "metadata": {},
   "outputs": [
    {
     "data": {
      "application/vnd.plotly.v1+json": {
       "config": {
        "plotlyServerURL": "https://plot.ly"
       },
       "data": [
        {
         "hovertemplate": "Date=%{x}<br>Closing Price=%{y}<extra></extra>",
         "legendgroup": "",
         "line": {
          "color": "#636efa",
          "dash": "solid"
         },
         "mode": "lines",
         "name": "",
         "orientation": "v",
         "showlegend": false,
         "type": "scatter",
         "x": [
          "2020-04-07T00:00:00",
          "2020-04-08T00:00:00",
          "2020-04-09T00:00:00",
          "2020-04-10T00:00:00",
          "2020-04-11T00:00:00",
          "2020-04-12T00:00:00",
          "2020-04-13T00:00:00",
          "2020-04-14T00:00:00",
          "2020-04-15T00:00:00",
          "2020-04-16T00:00:00",
          "2020-04-17T00:00:00",
          "2020-04-18T00:00:00",
          "2020-04-19T00:00:00",
          "2020-04-20T00:00:00",
          "2020-04-21T00:00:00",
          "2020-04-22T00:00:00",
          "2020-04-23T00:00:00",
          "2020-04-24T00:00:00",
          "2020-04-25T00:00:00",
          "2020-04-26T00:00:00",
          "2020-04-27T00:00:00",
          "2020-04-28T00:00:00",
          "2020-04-29T00:00:00",
          "2020-04-30T00:00:00",
          "2020-05-01T00:00:00",
          "2020-05-02T00:00:00",
          "2020-05-03T00:00:00",
          "2020-05-04T00:00:00",
          "2020-05-05T00:00:00",
          "2020-05-06T00:00:00",
          "2020-05-07T00:00:00",
          "2020-05-08T00:00:00",
          "2020-05-09T00:00:00",
          "2020-05-10T00:00:00",
          "2020-05-11T00:00:00",
          "2020-05-12T00:00:00",
          "2020-05-13T00:00:00",
          "2020-05-14T00:00:00",
          "2020-05-15T00:00:00",
          "2020-05-16T00:00:00",
          "2020-05-17T00:00:00",
          "2020-05-18T00:00:00",
          "2020-05-19T00:00:00",
          "2020-05-20T00:00:00",
          "2020-05-21T00:00:00",
          "2020-05-22T00:00:00",
          "2020-05-23T00:00:00",
          "2020-05-24T00:00:00",
          "2020-05-25T00:00:00",
          "2020-05-26T00:00:00",
          "2020-05-27T00:00:00",
          "2020-05-28T00:00:00",
          "2020-05-29T00:00:00",
          "2020-05-30T00:00:00",
          "2020-05-31T00:00:00",
          "2020-06-01T00:00:00",
          "2020-06-02T00:00:00",
          "2020-06-03T00:00:00",
          "2020-06-04T00:00:00",
          "2020-06-05T00:00:00",
          "2020-06-06T00:00:00",
          "2020-06-07T00:00:00",
          "2020-06-08T00:00:00",
          "2020-06-09T00:00:00",
          "2020-06-10T00:00:00",
          "2020-06-11T00:00:00",
          "2020-06-12T00:00:00",
          "2020-06-13T00:00:00",
          "2020-06-14T00:00:00",
          "2020-06-15T00:00:00",
          "2020-06-16T00:00:00",
          "2020-06-17T00:00:00",
          "2020-06-18T00:00:00",
          "2020-06-19T00:00:00",
          "2020-06-20T00:00:00",
          "2020-06-21T00:00:00",
          "2020-06-22T00:00:00",
          "2020-06-23T00:00:00",
          "2020-06-24T00:00:00",
          "2020-06-25T00:00:00",
          "2020-06-26T00:00:00",
          "2020-06-27T00:00:00",
          "2020-06-28T00:00:00",
          "2020-06-29T00:00:00",
          "2020-06-30T00:00:00",
          "2020-07-01T00:00:00",
          "2020-07-02T00:00:00",
          "2020-07-03T00:00:00",
          "2020-07-04T00:00:00",
          "2020-07-05T00:00:00",
          "2020-07-06T00:00:00",
          "2020-07-07T00:00:00",
          "2020-07-08T00:00:00",
          "2020-07-09T00:00:00",
          "2020-07-10T00:00:00",
          "2020-07-11T00:00:00",
          "2020-07-12T00:00:00",
          "2020-07-13T00:00:00",
          "2020-07-14T00:00:00",
          "2020-07-15T00:00:00",
          "2020-07-16T00:00:00",
          "2020-07-17T00:00:00",
          "2020-07-18T00:00:00",
          "2020-07-19T00:00:00",
          "2020-07-20T00:00:00",
          "2020-07-21T00:00:00",
          "2020-07-22T00:00:00",
          "2020-07-23T00:00:00",
          "2020-07-24T00:00:00",
          "2020-07-25T00:00:00",
          "2020-07-26T00:00:00",
          "2020-07-27T00:00:00",
          "2020-07-28T00:00:00",
          "2020-07-29T00:00:00",
          "2020-07-30T00:00:00",
          "2020-07-31T00:00:00",
          "2020-08-01T00:00:00",
          "2020-08-02T00:00:00",
          "2020-08-03T00:00:00",
          "2020-08-04T00:00:00",
          "2020-08-05T00:00:00",
          "2020-08-06T00:00:00",
          "2020-08-07T00:00:00",
          "2020-08-08T00:00:00",
          "2020-08-09T00:00:00",
          "2020-08-10T00:00:00",
          "2020-08-11T00:00:00",
          "2020-08-12T00:00:00",
          "2020-08-13T00:00:00",
          "2020-08-14T00:00:00",
          "2020-08-15T00:00:00",
          "2020-08-16T00:00:00",
          "2020-08-17T00:00:00",
          "2020-08-18T00:00:00",
          "2020-08-19T00:00:00",
          "2020-08-20T00:00:00",
          "2020-08-21T00:00:00",
          "2020-08-22T00:00:00",
          "2020-08-23T00:00:00",
          "2020-08-24T00:00:00",
          "2020-08-25T00:00:00",
          "2020-08-26T00:00:00",
          "2020-08-27T00:00:00",
          "2020-08-28T00:00:00",
          "2020-08-29T00:00:00",
          "2020-08-30T00:00:00",
          "2020-08-31T00:00:00",
          "2020-09-01T00:00:00",
          "2020-09-02T00:00:00",
          "2020-09-03T00:00:00",
          "2020-09-04T00:00:00",
          "2020-09-05T00:00:00",
          "2020-09-06T00:00:00",
          "2020-09-07T00:00:00",
          "2020-09-08T00:00:00",
          "2020-09-09T00:00:00",
          "2020-09-10T00:00:00",
          "2020-09-11T00:00:00",
          "2020-09-12T00:00:00",
          "2020-09-13T00:00:00",
          "2020-09-14T00:00:00",
          "2020-09-15T00:00:00",
          "2020-09-16T00:00:00",
          "2020-09-17T00:00:00",
          "2020-09-18T00:00:00",
          "2020-09-19T00:00:00",
          "2020-09-20T00:00:00",
          "2020-09-21T00:00:00",
          "2020-09-22T00:00:00",
          "2020-09-23T00:00:00",
          "2020-09-24T00:00:00",
          "2020-09-25T00:00:00",
          "2020-09-26T00:00:00",
          "2020-09-27T00:00:00",
          "2020-09-28T00:00:00",
          "2020-09-29T00:00:00",
          "2020-09-30T00:00:00",
          "2020-10-01T00:00:00",
          "2020-10-02T00:00:00",
          "2020-10-03T00:00:00",
          "2020-10-04T00:00:00",
          "2020-10-05T00:00:00",
          "2020-10-06T00:00:00",
          "2020-10-07T00:00:00",
          "2020-10-08T00:00:00",
          "2020-10-09T00:00:00",
          "2020-10-10T00:00:00",
          "2020-10-11T00:00:00",
          "2020-10-12T00:00:00",
          "2020-10-13T00:00:00",
          "2020-10-14T00:00:00",
          "2020-10-15T00:00:00",
          "2020-10-16T00:00:00",
          "2020-10-17T00:00:00",
          "2020-10-18T00:00:00",
          "2020-10-19T00:00:00",
          "2020-10-20T00:00:00",
          "2020-10-21T00:00:00",
          "2020-10-22T00:00:00",
          "2020-10-23T00:00:00",
          "2020-10-24T00:00:00",
          "2020-10-25T00:00:00",
          "2020-10-26T00:00:00",
          "2020-10-27T00:00:00",
          "2020-10-28T00:00:00",
          "2020-10-29T00:00:00",
          "2020-10-30T00:00:00",
          "2020-10-31T00:00:00",
          "2020-11-01T00:00:00",
          "2020-11-02T00:00:00",
          "2020-11-03T00:00:00",
          "2020-11-04T00:00:00",
          "2020-11-05T00:00:00",
          "2020-11-06T00:00:00",
          "2020-11-07T00:00:00",
          "2020-11-08T00:00:00",
          "2020-11-09T00:00:00",
          "2020-11-10T00:00:00",
          "2020-11-11T00:00:00",
          "2020-11-12T00:00:00",
          "2020-11-13T00:00:00",
          "2020-11-14T00:00:00",
          "2020-11-15T00:00:00",
          "2020-11-16T00:00:00",
          "2020-11-17T00:00:00",
          "2020-11-18T00:00:00",
          "2020-11-19T00:00:00",
          "2020-11-20T00:00:00",
          "2020-11-21T00:00:00",
          "2020-11-22T00:00:00",
          "2020-11-23T00:00:00",
          "2020-11-24T00:00:00",
          "2020-11-25T00:00:00",
          "2020-11-26T00:00:00",
          "2020-11-27T00:00:00",
          "2020-11-28T00:00:00",
          "2020-11-29T00:00:00",
          "2020-11-30T00:00:00",
          "2020-12-01T00:00:00",
          "2020-12-02T00:00:00",
          "2020-12-03T00:00:00",
          "2020-12-04T00:00:00",
          "2020-12-05T00:00:00",
          "2020-12-06T00:00:00",
          "2020-12-07T00:00:00",
          "2020-12-08T00:00:00",
          "2020-12-09T00:00:00",
          "2020-12-10T00:00:00",
          "2020-12-11T00:00:00",
          "2020-12-12T00:00:00",
          "2020-12-13T00:00:00",
          "2020-12-14T00:00:00",
          "2020-12-15T00:00:00",
          "2020-12-16T00:00:00",
          "2020-12-17T00:00:00",
          "2020-12-18T00:00:00",
          "2020-12-19T00:00:00",
          "2020-12-20T00:00:00",
          "2020-12-21T00:00:00",
          "2020-12-22T00:00:00",
          "2020-12-23T00:00:00",
          "2020-12-24T00:00:00",
          "2020-12-25T00:00:00",
          "2020-12-26T00:00:00",
          "2020-12-27T00:00:00",
          "2020-12-28T00:00:00",
          "2020-12-29T00:00:00",
          "2020-12-30T00:00:00",
          "2020-12-31T00:00:00",
          "2021-01-01T00:00:00",
          "2021-01-02T00:00:00",
          "2021-01-03T00:00:00",
          "2021-01-04T00:00:00",
          "2021-01-05T00:00:00",
          "2021-01-06T00:00:00",
          "2021-01-07T00:00:00",
          "2021-01-08T00:00:00",
          "2021-01-09T00:00:00",
          "2021-01-10T00:00:00",
          "2021-01-11T00:00:00",
          "2021-01-12T00:00:00",
          "2021-01-13T00:00:00",
          "2021-01-14T00:00:00",
          "2021-01-15T00:00:00",
          "2021-01-16T00:00:00",
          "2021-01-17T00:00:00",
          "2021-01-18T00:00:00",
          "2021-01-19T00:00:00",
          "2021-01-20T00:00:00",
          "2021-01-21T00:00:00",
          "2021-01-22T00:00:00",
          "2021-01-23T00:00:00",
          "2021-01-24T00:00:00",
          "2021-01-25T00:00:00",
          "2021-01-26T00:00:00",
          "2021-01-27T00:00:00",
          "2021-01-28T00:00:00",
          "2021-01-29T00:00:00",
          "2021-01-30T00:00:00",
          "2021-01-31T00:00:00",
          "2021-02-01T00:00:00",
          "2021-02-02T00:00:00",
          "2021-02-03T00:00:00",
          "2021-02-04T00:00:00",
          "2021-02-05T00:00:00",
          "2021-02-06T00:00:00",
          "2021-02-07T00:00:00",
          "2021-02-08T00:00:00",
          "2021-02-09T00:00:00",
          "2021-02-10T00:00:00",
          "2021-02-11T00:00:00",
          "2021-02-12T00:00:00",
          "2021-02-13T00:00:00",
          "2021-02-14T00:00:00",
          "2021-02-15T00:00:00",
          "2021-02-16T00:00:00",
          "2021-02-17T00:00:00",
          "2021-02-18T00:00:00",
          "2021-02-19T00:00:00",
          "2021-02-20T00:00:00",
          "2021-02-21T00:00:00",
          "2021-02-22T00:00:00",
          "2021-02-23T00:00:00",
          "2021-02-24T00:00:00",
          "2021-02-25T00:00:00",
          "2021-02-26T00:00:00",
          "2021-02-27T00:00:00",
          "2021-02-28T00:00:00",
          "2021-03-01T00:00:00",
          "2021-03-02T00:00:00",
          "2021-03-03T00:00:00",
          "2021-03-04T00:00:00",
          "2021-03-05T00:00:00",
          "2021-03-06T00:00:00",
          "2021-03-07T00:00:00",
          "2021-03-08T00:00:00",
          "2021-03-09T00:00:00",
          "2021-03-10T00:00:00",
          "2021-03-11T00:00:00",
          "2021-03-12T00:00:00",
          "2021-03-13T00:00:00",
          "2021-03-14T00:00:00",
          "2021-03-15T00:00:00",
          "2021-03-16T00:00:00",
          "2021-03-17T00:00:00",
          "2021-03-18T00:00:00",
          "2021-03-19T00:00:00",
          "2021-03-20T00:00:00",
          "2021-03-21T00:00:00",
          "2021-03-22T00:00:00",
          "2021-03-23T00:00:00",
          "2021-03-24T00:00:00",
          "2021-03-25T00:00:00",
          "2021-03-26T00:00:00",
          "2021-03-27T00:00:00",
          "2021-03-28T00:00:00",
          "2021-03-29T00:00:00",
          "2021-03-30T00:00:00",
          "2021-03-31T00:00:00",
          "2021-04-01T00:00:00",
          "2021-04-02T00:00:00",
          "2021-04-03T00:00:00",
          "2021-04-04T00:00:00",
          "2021-04-05T00:00:00",
          "2021-04-06T00:00:00",
          "2021-04-07T00:00:00"
         ],
         "xaxis": "x",
         "y": [
          64.8575,
          66.5175,
          66.9975,
          66.9975,
          66.9975,
          66.9975,
          68.3125,
          71.7625,
          71.1075,
          71.6725,
          70.7,
          70.7,
          70.7,
          69.2325,
          67.0925,
          69.025,
          68.7575,
          70.7425,
          70.7425,
          70.7425,
          70.7925,
          69.645,
          71.9325,
          73.45,
          72.2675,
          72.2675,
          72.2675,
          73.29,
          74.39,
          75.1575,
          75.935,
          77.5325,
          77.5325,
          77.5325,
          78.7525,
          77.8525,
          76.9125,
          77.385,
          76.9275,
          76.9275,
          76.9275,
          78.74,
          78.285,
          79.8075,
          79.2125,
          79.7225,
          79.7225,
          79.7225,
          79.7225,
          79.1825,
          79.5275,
          79.5625,
          79.485,
          79.485,
          79.485,
          80.4625,
          80.835,
          81.28,
          80.58,
          82.875,
          82.875,
          82.875,
          83.365,
          85.9975,
          88.21,
          83.975,
          84.7,
          84.7,
          84.7,
          85.7475,
          88.02,
          87.8975,
          87.9325,
          87.43,
          87.43,
          87.43,
          89.7175,
          91.6325,
          90.015,
          91.21,
          88.4075,
          88.4075,
          88.4075,
          90.445,
          91.2,
          91.0275,
          91.0275,
          91.0275,
          91.0275,
          91.0275,
          93.4625,
          93.1725,
          95.3425,
          95.6825,
          95.92,
          95.92,
          95.92,
          95.4775,
          97.0575,
          97.725,
          96.5225,
          96.3275,
          96.3275,
          96.3275,
          98.3575,
          97,
          97.2725,
          92.845,
          92.615,
          92.615,
          92.615,
          94.81,
          93.2525,
          95.04,
          96.19,
          106.26,
          106.26,
          106.26,
          108.9375,
          109.665,
          110.0625,
          113.9025,
          111.1125,
          111.1125,
          111.1125,
          112.7275,
          109.375,
          113.01,
          115.01,
          114.9075,
          114.9075,
          114.9075,
          114.6075,
          115.5625,
          115.7075,
          118.275,
          124.37,
          124.37,
          124.37,
          125.8575,
          124.825,
          126.5225,
          125.01,
          124.8075,
          124.8075,
          124.8075,
          129.04,
          134.18,
          131.4,
          120.88,
          120.96,
          120.96,
          120.96,
          120.96,
          112.82,
          117.32,
          113.49,
          112,
          112,
          112,
          115.355,
          115.54,
          112.13,
          110.34,
          106.84,
          106.84,
          106.84,
          110.08,
          111.81,
          107.12,
          108.22,
          112.28,
          112.28,
          112.28,
          114.96,
          114.09,
          115.81,
          116.79,
          113.02,
          113.02,
          113.02,
          116.5,
          113.16,
          115.08,
          114.97,
          116.97,
          116.97,
          116.97,
          124.4,
          121.1,
          121.19,
          120.71,
          119.02,
          119.02,
          119.02,
          115.98,
          117.51,
          116.87,
          115.75,
          115.04,
          115.04,
          115.04,
          115.05,
          116.6,
          111.2,
          115.32,
          108.86,
          108.86,
          108.86,
          108.77,
          110.44,
          114.95,
          119.03,
          118.69,
          118.69,
          118.69,
          116.32,
          115.97,
          119.49,
          119.21,
          119.26,
          119.26,
          119.26,
          120.3,
          119.39,
          118.03,
          118.64,
          117.34,
          117.34,
          117.34,
          113.85,
          115.17,
          116.03,
          116.03,
          116.59,
          116.59,
          116.59,
          119.05,
          122.72,
          123.08,
          122.94,
          122.25,
          122.25,
          122.25,
          123.75,
          124.38,
          121.78,
          123.24,
          122.41,
          122.41,
          122.41,
          121.78,
          127.88,
          127.81,
          128.7,
          126.655,
          126.655,
          126.655,
          128.23,
          131.88,
          130.96,
          131.97,
          131.97,
          131.97,
          131.97,
          136.69,
          134.87,
          133.72,
          132.69,
          132.69,
          132.69,
          132.69,
          129.41,
          131.01,
          126.6,
          130.92,
          132.05,
          132.05,
          132.05,
          128.98,
          128.8,
          130.89,
          128.91,
          127.14,
          127.14,
          127.14,
          127.14,
          127.83,
          132.03,
          136.87,
          139.07,
          139.07,
          139.07,
          142.92,
          143.16,
          142.06,
          137.09,
          131.96,
          131.96,
          131.96,
          134.14,
          134.99,
          133.94,
          137.39,
          136.76,
          136.76,
          136.76,
          136.91,
          136.01,
          135.39,
          135.13,
          135.37,
          135.37,
          135.37,
          135.37,
          133.19,
          130.84,
          129.71,
          129.87,
          129.87,
          129.87,
          126,
          125.86,
          125.35,
          120.99,
          121.26,
          121.26,
          121.26,
          127.79,
          125.12,
          122.06,
          120.13,
          121.42,
          121.42,
          121.42,
          116.36,
          121.085,
          119.98,
          121.96,
          121.03,
          121.03,
          121.03,
          123.99,
          125.57,
          124.76,
          120.53,
          119.99,
          119.99,
          119.99,
          123.39,
          122.54,
          120.09,
          120.59,
          121.21,
          121.21,
          121.21,
          121.39,
          119.9,
          122.15,
          123,
          123,
          123,
          123,
          125.9,
          126.21,
          126.21
         ],
         "yaxis": "y"
        },
        {
         "type": "scatter",
         "x": [
          "2021-04-08T00:00:00",
          "2021-04-09T00:00:00",
          "2021-04-10T00:00:00",
          "2021-04-11T00:00:00",
          "2021-04-12T00:00:00",
          "2021-04-13T00:00:00",
          "2021-04-14T00:00:00",
          "2021-04-15T00:00:00",
          "2021-04-16T00:00:00",
          "2021-04-17T00:00:00",
          "2021-04-18T00:00:00",
          "2021-04-19T00:00:00",
          "2021-04-20T00:00:00",
          "2021-04-21T00:00:00",
          "2021-04-22T00:00:00",
          "2021-04-23T00:00:00",
          "2021-04-24T00:00:00",
          "2021-04-25T00:00:00",
          "2021-04-26T00:00:00",
          "2021-04-27T00:00:00",
          "2021-04-28T00:00:00",
          "2021-04-29T00:00:00",
          "2021-04-30T00:00:00",
          "2021-05-01T00:00:00",
          "2021-05-02T00:00:00",
          "2021-05-03T00:00:00",
          "2021-05-04T00:00:00",
          "2021-05-05T00:00:00",
          "2021-05-06T00:00:00",
          "2021-05-07T00:00:00"
         ],
         "y": [
          127.60115774899303,
          128.37981003852525,
          127.97323217037516,
          124.9600261082929,
          125.66571917905347,
          126.02632048556646,
          125.99998236011979,
          127.81800518249726,
          127.3342833952585,
          127.31309072100372,
          127.70519338015761,
          128.02121292108959,
          128.68807263913723,
          129.0326642644222,
          128.92819239668856,
          126.72372223445498,
          128.24941340665617,
          128.8584501886087,
          128.8298473212424,
          129.64639611506485,
          129.40889685936006,
          130.95518154896706,
          131.28751672129513,
          131.41731477408177,
          132.52507817109083,
          133.10164240275847,
          132.82439688092666,
          130.17044412624284,
          131.23955444681522,
          131.70126015706688
         ]
        }
       ],
       "layout": {
        "legend": {
         "tracegroupgap": 0
        },
        "showlegend": false,
        "template": {
         "data": {
          "bar": [
           {
            "error_x": {
             "color": "#2a3f5f"
            },
            "error_y": {
             "color": "#2a3f5f"
            },
            "marker": {
             "line": {
              "color": "#E5ECF6",
              "width": 0.5
             }
            },
            "type": "bar"
           }
          ],
          "barpolar": [
           {
            "marker": {
             "line": {
              "color": "#E5ECF6",
              "width": 0.5
             }
            },
            "type": "barpolar"
           }
          ],
          "carpet": [
           {
            "aaxis": {
             "endlinecolor": "#2a3f5f",
             "gridcolor": "white",
             "linecolor": "white",
             "minorgridcolor": "white",
             "startlinecolor": "#2a3f5f"
            },
            "baxis": {
             "endlinecolor": "#2a3f5f",
             "gridcolor": "white",
             "linecolor": "white",
             "minorgridcolor": "white",
             "startlinecolor": "#2a3f5f"
            },
            "type": "carpet"
           }
          ],
          "choropleth": [
           {
            "colorbar": {
             "outlinewidth": 0,
             "ticks": ""
            },
            "type": "choropleth"
           }
          ],
          "contour": [
           {
            "colorbar": {
             "outlinewidth": 0,
             "ticks": ""
            },
            "colorscale": [
             [
              0,
              "#0d0887"
             ],
             [
              0.1111111111111111,
              "#46039f"
             ],
             [
              0.2222222222222222,
              "#7201a8"
             ],
             [
              0.3333333333333333,
              "#9c179e"
             ],
             [
              0.4444444444444444,
              "#bd3786"
             ],
             [
              0.5555555555555556,
              "#d8576b"
             ],
             [
              0.6666666666666666,
              "#ed7953"
             ],
             [
              0.7777777777777778,
              "#fb9f3a"
             ],
             [
              0.8888888888888888,
              "#fdca26"
             ],
             [
              1,
              "#f0f921"
             ]
            ],
            "type": "contour"
           }
          ],
          "contourcarpet": [
           {
            "colorbar": {
             "outlinewidth": 0,
             "ticks": ""
            },
            "type": "contourcarpet"
           }
          ],
          "heatmap": [
           {
            "colorbar": {
             "outlinewidth": 0,
             "ticks": ""
            },
            "colorscale": [
             [
              0,
              "#0d0887"
             ],
             [
              0.1111111111111111,
              "#46039f"
             ],
             [
              0.2222222222222222,
              "#7201a8"
             ],
             [
              0.3333333333333333,
              "#9c179e"
             ],
             [
              0.4444444444444444,
              "#bd3786"
             ],
             [
              0.5555555555555556,
              "#d8576b"
             ],
             [
              0.6666666666666666,
              "#ed7953"
             ],
             [
              0.7777777777777778,
              "#fb9f3a"
             ],
             [
              0.8888888888888888,
              "#fdca26"
             ],
             [
              1,
              "#f0f921"
             ]
            ],
            "type": "heatmap"
           }
          ],
          "heatmapgl": [
           {
            "colorbar": {
             "outlinewidth": 0,
             "ticks": ""
            },
            "colorscale": [
             [
              0,
              "#0d0887"
             ],
             [
              0.1111111111111111,
              "#46039f"
             ],
             [
              0.2222222222222222,
              "#7201a8"
             ],
             [
              0.3333333333333333,
              "#9c179e"
             ],
             [
              0.4444444444444444,
              "#bd3786"
             ],
             [
              0.5555555555555556,
              "#d8576b"
             ],
             [
              0.6666666666666666,
              "#ed7953"
             ],
             [
              0.7777777777777778,
              "#fb9f3a"
             ],
             [
              0.8888888888888888,
              "#fdca26"
             ],
             [
              1,
              "#f0f921"
             ]
            ],
            "type": "heatmapgl"
           }
          ],
          "histogram": [
           {
            "marker": {
             "colorbar": {
              "outlinewidth": 0,
              "ticks": ""
             }
            },
            "type": "histogram"
           }
          ],
          "histogram2d": [
           {
            "colorbar": {
             "outlinewidth": 0,
             "ticks": ""
            },
            "colorscale": [
             [
              0,
              "#0d0887"
             ],
             [
              0.1111111111111111,
              "#46039f"
             ],
             [
              0.2222222222222222,
              "#7201a8"
             ],
             [
              0.3333333333333333,
              "#9c179e"
             ],
             [
              0.4444444444444444,
              "#bd3786"
             ],
             [
              0.5555555555555556,
              "#d8576b"
             ],
             [
              0.6666666666666666,
              "#ed7953"
             ],
             [
              0.7777777777777778,
              "#fb9f3a"
             ],
             [
              0.8888888888888888,
              "#fdca26"
             ],
             [
              1,
              "#f0f921"
             ]
            ],
            "type": "histogram2d"
           }
          ],
          "histogram2dcontour": [
           {
            "colorbar": {
             "outlinewidth": 0,
             "ticks": ""
            },
            "colorscale": [
             [
              0,
              "#0d0887"
             ],
             [
              0.1111111111111111,
              "#46039f"
             ],
             [
              0.2222222222222222,
              "#7201a8"
             ],
             [
              0.3333333333333333,
              "#9c179e"
             ],
             [
              0.4444444444444444,
              "#bd3786"
             ],
             [
              0.5555555555555556,
              "#d8576b"
             ],
             [
              0.6666666666666666,
              "#ed7953"
             ],
             [
              0.7777777777777778,
              "#fb9f3a"
             ],
             [
              0.8888888888888888,
              "#fdca26"
             ],
             [
              1,
              "#f0f921"
             ]
            ],
            "type": "histogram2dcontour"
           }
          ],
          "mesh3d": [
           {
            "colorbar": {
             "outlinewidth": 0,
             "ticks": ""
            },
            "type": "mesh3d"
           }
          ],
          "parcoords": [
           {
            "line": {
             "colorbar": {
              "outlinewidth": 0,
              "ticks": ""
             }
            },
            "type": "parcoords"
           }
          ],
          "pie": [
           {
            "automargin": true,
            "type": "pie"
           }
          ],
          "scatter": [
           {
            "marker": {
             "colorbar": {
              "outlinewidth": 0,
              "ticks": ""
             }
            },
            "type": "scatter"
           }
          ],
          "scatter3d": [
           {
            "line": {
             "colorbar": {
              "outlinewidth": 0,
              "ticks": ""
             }
            },
            "marker": {
             "colorbar": {
              "outlinewidth": 0,
              "ticks": ""
             }
            },
            "type": "scatter3d"
           }
          ],
          "scattercarpet": [
           {
            "marker": {
             "colorbar": {
              "outlinewidth": 0,
              "ticks": ""
             }
            },
            "type": "scattercarpet"
           }
          ],
          "scattergeo": [
           {
            "marker": {
             "colorbar": {
              "outlinewidth": 0,
              "ticks": ""
             }
            },
            "type": "scattergeo"
           }
          ],
          "scattergl": [
           {
            "marker": {
             "colorbar": {
              "outlinewidth": 0,
              "ticks": ""
             }
            },
            "type": "scattergl"
           }
          ],
          "scattermapbox": [
           {
            "marker": {
             "colorbar": {
              "outlinewidth": 0,
              "ticks": ""
             }
            },
            "type": "scattermapbox"
           }
          ],
          "scatterpolar": [
           {
            "marker": {
             "colorbar": {
              "outlinewidth": 0,
              "ticks": ""
             }
            },
            "type": "scatterpolar"
           }
          ],
          "scatterpolargl": [
           {
            "marker": {
             "colorbar": {
              "outlinewidth": 0,
              "ticks": ""
             }
            },
            "type": "scatterpolargl"
           }
          ],
          "scatterternary": [
           {
            "marker": {
             "colorbar": {
              "outlinewidth": 0,
              "ticks": ""
             }
            },
            "type": "scatterternary"
           }
          ],
          "surface": [
           {
            "colorbar": {
             "outlinewidth": 0,
             "ticks": ""
            },
            "colorscale": [
             [
              0,
              "#0d0887"
             ],
             [
              0.1111111111111111,
              "#46039f"
             ],
             [
              0.2222222222222222,
              "#7201a8"
             ],
             [
              0.3333333333333333,
              "#9c179e"
             ],
             [
              0.4444444444444444,
              "#bd3786"
             ],
             [
              0.5555555555555556,
              "#d8576b"
             ],
             [
              0.6666666666666666,
              "#ed7953"
             ],
             [
              0.7777777777777778,
              "#fb9f3a"
             ],
             [
              0.8888888888888888,
              "#fdca26"
             ],
             [
              1,
              "#f0f921"
             ]
            ],
            "type": "surface"
           }
          ],
          "table": [
           {
            "cells": {
             "fill": {
              "color": "#EBF0F8"
             },
             "line": {
              "color": "white"
             }
            },
            "header": {
             "fill": {
              "color": "#C8D4E3"
             },
             "line": {
              "color": "white"
             }
            },
            "type": "table"
           }
          ]
         },
         "layout": {
          "annotationdefaults": {
           "arrowcolor": "#2a3f5f",
           "arrowhead": 0,
           "arrowwidth": 1
          },
          "autotypenumbers": "strict",
          "coloraxis": {
           "colorbar": {
            "outlinewidth": 0,
            "ticks": ""
           }
          },
          "colorscale": {
           "diverging": [
            [
             0,
             "#8e0152"
            ],
            [
             0.1,
             "#c51b7d"
            ],
            [
             0.2,
             "#de77ae"
            ],
            [
             0.3,
             "#f1b6da"
            ],
            [
             0.4,
             "#fde0ef"
            ],
            [
             0.5,
             "#f7f7f7"
            ],
            [
             0.6,
             "#e6f5d0"
            ],
            [
             0.7,
             "#b8e186"
            ],
            [
             0.8,
             "#7fbc41"
            ],
            [
             0.9,
             "#4d9221"
            ],
            [
             1,
             "#276419"
            ]
           ],
           "sequential": [
            [
             0,
             "#0d0887"
            ],
            [
             0.1111111111111111,
             "#46039f"
            ],
            [
             0.2222222222222222,
             "#7201a8"
            ],
            [
             0.3333333333333333,
             "#9c179e"
            ],
            [
             0.4444444444444444,
             "#bd3786"
            ],
            [
             0.5555555555555556,
             "#d8576b"
            ],
            [
             0.6666666666666666,
             "#ed7953"
            ],
            [
             0.7777777777777778,
             "#fb9f3a"
            ],
            [
             0.8888888888888888,
             "#fdca26"
            ],
            [
             1,
             "#f0f921"
            ]
           ],
           "sequentialminus": [
            [
             0,
             "#0d0887"
            ],
            [
             0.1111111111111111,
             "#46039f"
            ],
            [
             0.2222222222222222,
             "#7201a8"
            ],
            [
             0.3333333333333333,
             "#9c179e"
            ],
            [
             0.4444444444444444,
             "#bd3786"
            ],
            [
             0.5555555555555556,
             "#d8576b"
            ],
            [
             0.6666666666666666,
             "#ed7953"
            ],
            [
             0.7777777777777778,
             "#fb9f3a"
            ],
            [
             0.8888888888888888,
             "#fdca26"
            ],
            [
             1,
             "#f0f921"
            ]
           ]
          },
          "colorway": [
           "#636efa",
           "#EF553B",
           "#00cc96",
           "#ab63fa",
           "#FFA15A",
           "#19d3f3",
           "#FF6692",
           "#B6E880",
           "#FF97FF",
           "#FECB52"
          ],
          "font": {
           "color": "#2a3f5f"
          },
          "geo": {
           "bgcolor": "white",
           "lakecolor": "white",
           "landcolor": "#E5ECF6",
           "showlakes": true,
           "showland": true,
           "subunitcolor": "white"
          },
          "hoverlabel": {
           "align": "left"
          },
          "hovermode": "closest",
          "mapbox": {
           "style": "light"
          },
          "paper_bgcolor": "white",
          "plot_bgcolor": "#E5ECF6",
          "polar": {
           "angularaxis": {
            "gridcolor": "white",
            "linecolor": "white",
            "ticks": ""
           },
           "bgcolor": "#E5ECF6",
           "radialaxis": {
            "gridcolor": "white",
            "linecolor": "white",
            "ticks": ""
           }
          },
          "scene": {
           "xaxis": {
            "backgroundcolor": "#E5ECF6",
            "gridcolor": "white",
            "gridwidth": 2,
            "linecolor": "white",
            "showbackground": true,
            "ticks": "",
            "zerolinecolor": "white"
           },
           "yaxis": {
            "backgroundcolor": "#E5ECF6",
            "gridcolor": "white",
            "gridwidth": 2,
            "linecolor": "white",
            "showbackground": true,
            "ticks": "",
            "zerolinecolor": "white"
           },
           "zaxis": {
            "backgroundcolor": "#E5ECF6",
            "gridcolor": "white",
            "gridwidth": 2,
            "linecolor": "white",
            "showbackground": true,
            "ticks": "",
            "zerolinecolor": "white"
           }
          },
          "shapedefaults": {
           "line": {
            "color": "#2a3f5f"
           }
          },
          "ternary": {
           "aaxis": {
            "gridcolor": "white",
            "linecolor": "white",
            "ticks": ""
           },
           "baxis": {
            "gridcolor": "white",
            "linecolor": "white",
            "ticks": ""
           },
           "bgcolor": "#E5ECF6",
           "caxis": {
            "gridcolor": "white",
            "linecolor": "white",
            "ticks": ""
           }
          },
          "title": {
           "x": 0.05
          },
          "xaxis": {
           "automargin": true,
           "gridcolor": "white",
           "linecolor": "white",
           "ticks": "",
           "title": {
            "standoff": 15
           },
           "zerolinecolor": "white",
           "zerolinewidth": 2
          },
          "yaxis": {
           "automargin": true,
           "gridcolor": "white",
           "linecolor": "white",
           "ticks": "",
           "title": {
            "standoff": 15
           },
           "zerolinecolor": "white",
           "zerolinewidth": 2
          }
         }
        },
        "title": {
         "text": "Closing Price Prediction"
        },
        "xaxis": {
         "anchor": "y",
         "domain": [
          0,
          1
         ],
         "title": {
          "text": "Date"
         }
        },
        "yaxis": {
         "anchor": "x",
         "domain": [
          0,
          1
         ],
         "title": {
          "text": "Closing Price"
         }
        }
       }
      },
      "text/html": [
       "<div>                            <div id=\"9b4947b8-af57-4c73-9d6e-e80ba1455dca\" class=\"plotly-graph-div\" style=\"height:525px; width:100%;\"></div>            <script type=\"text/javascript\">                require([\"plotly\"], function(Plotly) {                    window.PLOTLYENV=window.PLOTLYENV || {};                                    if (document.getElementById(\"9b4947b8-af57-4c73-9d6e-e80ba1455dca\")) {                    Plotly.newPlot(                        \"9b4947b8-af57-4c73-9d6e-e80ba1455dca\",                        [{\"hovertemplate\": \"Date=%{x}<br>Closing Price=%{y}<extra></extra>\", \"legendgroup\": \"\", \"line\": {\"color\": \"#636efa\", \"dash\": \"solid\"}, \"mode\": \"lines\", \"name\": \"\", \"orientation\": \"v\", \"showlegend\": false, \"type\": \"scatter\", \"x\": [\"2020-04-07T00:00:00\", \"2020-04-08T00:00:00\", \"2020-04-09T00:00:00\", \"2020-04-10T00:00:00\", \"2020-04-11T00:00:00\", \"2020-04-12T00:00:00\", \"2020-04-13T00:00:00\", \"2020-04-14T00:00:00\", \"2020-04-15T00:00:00\", \"2020-04-16T00:00:00\", \"2020-04-17T00:00:00\", \"2020-04-18T00:00:00\", \"2020-04-19T00:00:00\", \"2020-04-20T00:00:00\", \"2020-04-21T00:00:00\", \"2020-04-22T00:00:00\", \"2020-04-23T00:00:00\", \"2020-04-24T00:00:00\", \"2020-04-25T00:00:00\", \"2020-04-26T00:00:00\", \"2020-04-27T00:00:00\", \"2020-04-28T00:00:00\", \"2020-04-29T00:00:00\", \"2020-04-30T00:00:00\", \"2020-05-01T00:00:00\", \"2020-05-02T00:00:00\", \"2020-05-03T00:00:00\", \"2020-05-04T00:00:00\", \"2020-05-05T00:00:00\", \"2020-05-06T00:00:00\", \"2020-05-07T00:00:00\", \"2020-05-08T00:00:00\", \"2020-05-09T00:00:00\", \"2020-05-10T00:00:00\", \"2020-05-11T00:00:00\", \"2020-05-12T00:00:00\", \"2020-05-13T00:00:00\", \"2020-05-14T00:00:00\", \"2020-05-15T00:00:00\", \"2020-05-16T00:00:00\", \"2020-05-17T00:00:00\", \"2020-05-18T00:00:00\", \"2020-05-19T00:00:00\", \"2020-05-20T00:00:00\", \"2020-05-21T00:00:00\", \"2020-05-22T00:00:00\", \"2020-05-23T00:00:00\", \"2020-05-24T00:00:00\", \"2020-05-25T00:00:00\", \"2020-05-26T00:00:00\", \"2020-05-27T00:00:00\", \"2020-05-28T00:00:00\", \"2020-05-29T00:00:00\", \"2020-05-30T00:00:00\", \"2020-05-31T00:00:00\", \"2020-06-01T00:00:00\", \"2020-06-02T00:00:00\", \"2020-06-03T00:00:00\", \"2020-06-04T00:00:00\", \"2020-06-05T00:00:00\", \"2020-06-06T00:00:00\", \"2020-06-07T00:00:00\", \"2020-06-08T00:00:00\", \"2020-06-09T00:00:00\", \"2020-06-10T00:00:00\", \"2020-06-11T00:00:00\", \"2020-06-12T00:00:00\", \"2020-06-13T00:00:00\", \"2020-06-14T00:00:00\", \"2020-06-15T00:00:00\", \"2020-06-16T00:00:00\", \"2020-06-17T00:00:00\", \"2020-06-18T00:00:00\", \"2020-06-19T00:00:00\", \"2020-06-20T00:00:00\", \"2020-06-21T00:00:00\", \"2020-06-22T00:00:00\", \"2020-06-23T00:00:00\", \"2020-06-24T00:00:00\", \"2020-06-25T00:00:00\", \"2020-06-26T00:00:00\", \"2020-06-27T00:00:00\", \"2020-06-28T00:00:00\", \"2020-06-29T00:00:00\", \"2020-06-30T00:00:00\", \"2020-07-01T00:00:00\", \"2020-07-02T00:00:00\", \"2020-07-03T00:00:00\", \"2020-07-04T00:00:00\", \"2020-07-05T00:00:00\", \"2020-07-06T00:00:00\", \"2020-07-07T00:00:00\", \"2020-07-08T00:00:00\", \"2020-07-09T00:00:00\", \"2020-07-10T00:00:00\", \"2020-07-11T00:00:00\", \"2020-07-12T00:00:00\", \"2020-07-13T00:00:00\", \"2020-07-14T00:00:00\", \"2020-07-15T00:00:00\", \"2020-07-16T00:00:00\", \"2020-07-17T00:00:00\", \"2020-07-18T00:00:00\", \"2020-07-19T00:00:00\", \"2020-07-20T00:00:00\", \"2020-07-21T00:00:00\", \"2020-07-22T00:00:00\", \"2020-07-23T00:00:00\", \"2020-07-24T00:00:00\", \"2020-07-25T00:00:00\", \"2020-07-26T00:00:00\", \"2020-07-27T00:00:00\", \"2020-07-28T00:00:00\", \"2020-07-29T00:00:00\", \"2020-07-30T00:00:00\", \"2020-07-31T00:00:00\", \"2020-08-01T00:00:00\", \"2020-08-02T00:00:00\", \"2020-08-03T00:00:00\", \"2020-08-04T00:00:00\", \"2020-08-05T00:00:00\", \"2020-08-06T00:00:00\", \"2020-08-07T00:00:00\", \"2020-08-08T00:00:00\", \"2020-08-09T00:00:00\", \"2020-08-10T00:00:00\", \"2020-08-11T00:00:00\", \"2020-08-12T00:00:00\", \"2020-08-13T00:00:00\", \"2020-08-14T00:00:00\", \"2020-08-15T00:00:00\", \"2020-08-16T00:00:00\", \"2020-08-17T00:00:00\", \"2020-08-18T00:00:00\", \"2020-08-19T00:00:00\", \"2020-08-20T00:00:00\", \"2020-08-21T00:00:00\", \"2020-08-22T00:00:00\", \"2020-08-23T00:00:00\", \"2020-08-24T00:00:00\", \"2020-08-25T00:00:00\", \"2020-08-26T00:00:00\", \"2020-08-27T00:00:00\", \"2020-08-28T00:00:00\", \"2020-08-29T00:00:00\", \"2020-08-30T00:00:00\", \"2020-08-31T00:00:00\", \"2020-09-01T00:00:00\", \"2020-09-02T00:00:00\", \"2020-09-03T00:00:00\", \"2020-09-04T00:00:00\", \"2020-09-05T00:00:00\", \"2020-09-06T00:00:00\", \"2020-09-07T00:00:00\", \"2020-09-08T00:00:00\", \"2020-09-09T00:00:00\", \"2020-09-10T00:00:00\", \"2020-09-11T00:00:00\", \"2020-09-12T00:00:00\", \"2020-09-13T00:00:00\", \"2020-09-14T00:00:00\", \"2020-09-15T00:00:00\", \"2020-09-16T00:00:00\", \"2020-09-17T00:00:00\", \"2020-09-18T00:00:00\", \"2020-09-19T00:00:00\", \"2020-09-20T00:00:00\", \"2020-09-21T00:00:00\", \"2020-09-22T00:00:00\", \"2020-09-23T00:00:00\", \"2020-09-24T00:00:00\", \"2020-09-25T00:00:00\", \"2020-09-26T00:00:00\", \"2020-09-27T00:00:00\", \"2020-09-28T00:00:00\", \"2020-09-29T00:00:00\", \"2020-09-30T00:00:00\", \"2020-10-01T00:00:00\", \"2020-10-02T00:00:00\", \"2020-10-03T00:00:00\", \"2020-10-04T00:00:00\", \"2020-10-05T00:00:00\", \"2020-10-06T00:00:00\", \"2020-10-07T00:00:00\", \"2020-10-08T00:00:00\", \"2020-10-09T00:00:00\", \"2020-10-10T00:00:00\", \"2020-10-11T00:00:00\", \"2020-10-12T00:00:00\", \"2020-10-13T00:00:00\", \"2020-10-14T00:00:00\", \"2020-10-15T00:00:00\", \"2020-10-16T00:00:00\", \"2020-10-17T00:00:00\", \"2020-10-18T00:00:00\", \"2020-10-19T00:00:00\", \"2020-10-20T00:00:00\", \"2020-10-21T00:00:00\", \"2020-10-22T00:00:00\", \"2020-10-23T00:00:00\", \"2020-10-24T00:00:00\", \"2020-10-25T00:00:00\", \"2020-10-26T00:00:00\", \"2020-10-27T00:00:00\", \"2020-10-28T00:00:00\", \"2020-10-29T00:00:00\", \"2020-10-30T00:00:00\", \"2020-10-31T00:00:00\", \"2020-11-01T00:00:00\", \"2020-11-02T00:00:00\", \"2020-11-03T00:00:00\", \"2020-11-04T00:00:00\", \"2020-11-05T00:00:00\", \"2020-11-06T00:00:00\", \"2020-11-07T00:00:00\", \"2020-11-08T00:00:00\", \"2020-11-09T00:00:00\", \"2020-11-10T00:00:00\", \"2020-11-11T00:00:00\", \"2020-11-12T00:00:00\", \"2020-11-13T00:00:00\", \"2020-11-14T00:00:00\", \"2020-11-15T00:00:00\", \"2020-11-16T00:00:00\", \"2020-11-17T00:00:00\", \"2020-11-18T00:00:00\", \"2020-11-19T00:00:00\", \"2020-11-20T00:00:00\", \"2020-11-21T00:00:00\", \"2020-11-22T00:00:00\", \"2020-11-23T00:00:00\", \"2020-11-24T00:00:00\", \"2020-11-25T00:00:00\", \"2020-11-26T00:00:00\", \"2020-11-27T00:00:00\", \"2020-11-28T00:00:00\", \"2020-11-29T00:00:00\", \"2020-11-30T00:00:00\", \"2020-12-01T00:00:00\", \"2020-12-02T00:00:00\", \"2020-12-03T00:00:00\", \"2020-12-04T00:00:00\", \"2020-12-05T00:00:00\", \"2020-12-06T00:00:00\", \"2020-12-07T00:00:00\", \"2020-12-08T00:00:00\", \"2020-12-09T00:00:00\", \"2020-12-10T00:00:00\", \"2020-12-11T00:00:00\", \"2020-12-12T00:00:00\", \"2020-12-13T00:00:00\", \"2020-12-14T00:00:00\", \"2020-12-15T00:00:00\", \"2020-12-16T00:00:00\", \"2020-12-17T00:00:00\", \"2020-12-18T00:00:00\", \"2020-12-19T00:00:00\", \"2020-12-20T00:00:00\", \"2020-12-21T00:00:00\", \"2020-12-22T00:00:00\", \"2020-12-23T00:00:00\", \"2020-12-24T00:00:00\", \"2020-12-25T00:00:00\", \"2020-12-26T00:00:00\", \"2020-12-27T00:00:00\", \"2020-12-28T00:00:00\", \"2020-12-29T00:00:00\", \"2020-12-30T00:00:00\", \"2020-12-31T00:00:00\", \"2021-01-01T00:00:00\", \"2021-01-02T00:00:00\", \"2021-01-03T00:00:00\", \"2021-01-04T00:00:00\", \"2021-01-05T00:00:00\", \"2021-01-06T00:00:00\", \"2021-01-07T00:00:00\", \"2021-01-08T00:00:00\", \"2021-01-09T00:00:00\", \"2021-01-10T00:00:00\", \"2021-01-11T00:00:00\", \"2021-01-12T00:00:00\", \"2021-01-13T00:00:00\", \"2021-01-14T00:00:00\", \"2021-01-15T00:00:00\", \"2021-01-16T00:00:00\", \"2021-01-17T00:00:00\", \"2021-01-18T00:00:00\", \"2021-01-19T00:00:00\", \"2021-01-20T00:00:00\", \"2021-01-21T00:00:00\", \"2021-01-22T00:00:00\", \"2021-01-23T00:00:00\", \"2021-01-24T00:00:00\", \"2021-01-25T00:00:00\", \"2021-01-26T00:00:00\", \"2021-01-27T00:00:00\", \"2021-01-28T00:00:00\", \"2021-01-29T00:00:00\", \"2021-01-30T00:00:00\", \"2021-01-31T00:00:00\", \"2021-02-01T00:00:00\", \"2021-02-02T00:00:00\", \"2021-02-03T00:00:00\", \"2021-02-04T00:00:00\", \"2021-02-05T00:00:00\", \"2021-02-06T00:00:00\", \"2021-02-07T00:00:00\", \"2021-02-08T00:00:00\", \"2021-02-09T00:00:00\", \"2021-02-10T00:00:00\", \"2021-02-11T00:00:00\", \"2021-02-12T00:00:00\", \"2021-02-13T00:00:00\", \"2021-02-14T00:00:00\", \"2021-02-15T00:00:00\", \"2021-02-16T00:00:00\", \"2021-02-17T00:00:00\", \"2021-02-18T00:00:00\", \"2021-02-19T00:00:00\", \"2021-02-20T00:00:00\", \"2021-02-21T00:00:00\", \"2021-02-22T00:00:00\", \"2021-02-23T00:00:00\", \"2021-02-24T00:00:00\", \"2021-02-25T00:00:00\", \"2021-02-26T00:00:00\", \"2021-02-27T00:00:00\", \"2021-02-28T00:00:00\", \"2021-03-01T00:00:00\", \"2021-03-02T00:00:00\", \"2021-03-03T00:00:00\", \"2021-03-04T00:00:00\", \"2021-03-05T00:00:00\", \"2021-03-06T00:00:00\", \"2021-03-07T00:00:00\", \"2021-03-08T00:00:00\", \"2021-03-09T00:00:00\", \"2021-03-10T00:00:00\", \"2021-03-11T00:00:00\", \"2021-03-12T00:00:00\", \"2021-03-13T00:00:00\", \"2021-03-14T00:00:00\", \"2021-03-15T00:00:00\", \"2021-03-16T00:00:00\", \"2021-03-17T00:00:00\", \"2021-03-18T00:00:00\", \"2021-03-19T00:00:00\", \"2021-03-20T00:00:00\", \"2021-03-21T00:00:00\", \"2021-03-22T00:00:00\", \"2021-03-23T00:00:00\", \"2021-03-24T00:00:00\", \"2021-03-25T00:00:00\", \"2021-03-26T00:00:00\", \"2021-03-27T00:00:00\", \"2021-03-28T00:00:00\", \"2021-03-29T00:00:00\", \"2021-03-30T00:00:00\", \"2021-03-31T00:00:00\", \"2021-04-01T00:00:00\", \"2021-04-02T00:00:00\", \"2021-04-03T00:00:00\", \"2021-04-04T00:00:00\", \"2021-04-05T00:00:00\", \"2021-04-06T00:00:00\", \"2021-04-07T00:00:00\"], \"xaxis\": \"x\", \"y\": [64.8575, 66.5175, 66.9975, 66.9975, 66.9975, 66.9975, 68.3125, 71.7625, 71.1075, 71.6725, 70.7, 70.7, 70.7, 69.2325, 67.0925, 69.025, 68.7575, 70.7425, 70.7425, 70.7425, 70.7925, 69.645, 71.9325, 73.45, 72.2675, 72.2675, 72.2675, 73.29, 74.39, 75.1575, 75.935, 77.5325, 77.5325, 77.5325, 78.7525, 77.8525, 76.9125, 77.385, 76.9275, 76.9275, 76.9275, 78.74, 78.285, 79.8075, 79.2125, 79.7225, 79.7225, 79.7225, 79.7225, 79.1825, 79.5275, 79.5625, 79.485, 79.485, 79.485, 80.4625, 80.835, 81.28, 80.58, 82.875, 82.875, 82.875, 83.365, 85.9975, 88.21, 83.975, 84.7, 84.7, 84.7, 85.7475, 88.02, 87.8975, 87.9325, 87.43, 87.43, 87.43, 89.7175, 91.6325, 90.015, 91.21, 88.4075, 88.4075, 88.4075, 90.445, 91.2, 91.0275, 91.0275, 91.0275, 91.0275, 91.0275, 93.4625, 93.1725, 95.3425, 95.6825, 95.92, 95.92, 95.92, 95.4775, 97.0575, 97.725, 96.5225, 96.3275, 96.3275, 96.3275, 98.3575, 97.0, 97.2725, 92.845, 92.615, 92.615, 92.615, 94.81, 93.2525, 95.04, 96.19, 106.26, 106.26, 106.26, 108.9375, 109.665, 110.0625, 113.9025, 111.1125, 111.1125, 111.1125, 112.7275, 109.375, 113.01, 115.01, 114.9075, 114.9075, 114.9075, 114.6075, 115.5625, 115.7075, 118.275, 124.37, 124.37, 124.37, 125.8575, 124.825, 126.5225, 125.01, 124.8075, 124.8075, 124.8075, 129.04, 134.18, 131.4, 120.88, 120.96, 120.96, 120.96, 120.96, 112.82, 117.32, 113.49, 112.0, 112.0, 112.0, 115.355, 115.54, 112.13, 110.34, 106.84, 106.84, 106.84, 110.08, 111.81, 107.12, 108.22, 112.28, 112.28, 112.28, 114.96, 114.09, 115.81, 116.79, 113.02, 113.02, 113.02, 116.5, 113.16, 115.08, 114.97, 116.97, 116.97, 116.97, 124.4, 121.1, 121.19, 120.71, 119.02, 119.02, 119.02, 115.98, 117.51, 116.87, 115.75, 115.04, 115.04, 115.04, 115.05, 116.6, 111.2, 115.32, 108.86, 108.86, 108.86, 108.77, 110.44, 114.95, 119.03, 118.69, 118.69, 118.69, 116.32, 115.97, 119.49, 119.21, 119.26, 119.26, 119.26, 120.3, 119.39, 118.03, 118.64, 117.34, 117.34, 117.34, 113.85, 115.17, 116.03, 116.03, 116.59, 116.59, 116.59, 119.05, 122.72, 123.08, 122.94, 122.25, 122.25, 122.25, 123.75, 124.38, 121.78, 123.24, 122.41, 122.41, 122.41, 121.78, 127.88, 127.81, 128.7, 126.655, 126.655, 126.655, 128.23, 131.88, 130.96, 131.97, 131.97, 131.97, 131.97, 136.69, 134.87, 133.72, 132.69, 132.69, 132.69, 132.69, 129.41, 131.01, 126.6, 130.92, 132.05, 132.05, 132.05, 128.98, 128.8, 130.89, 128.91, 127.14, 127.14, 127.14, 127.14, 127.83, 132.03, 136.87, 139.07, 139.07, 139.07, 142.92, 143.16, 142.06, 137.09, 131.96, 131.96, 131.96, 134.14, 134.99, 133.94, 137.39, 136.76, 136.76, 136.76, 136.91, 136.01, 135.39, 135.13, 135.37, 135.37, 135.37, 135.37, 133.19, 130.84, 129.71, 129.87, 129.87, 129.87, 126.0, 125.86, 125.35, 120.99, 121.26, 121.26, 121.26, 127.79, 125.12, 122.06, 120.13, 121.42, 121.42, 121.42, 116.36, 121.085, 119.98, 121.96, 121.03, 121.03, 121.03, 123.99, 125.57, 124.76, 120.53, 119.99, 119.99, 119.99, 123.39, 122.54, 120.09, 120.59, 121.21, 121.21, 121.21, 121.39, 119.9, 122.15, 123.0, 123.0, 123.0, 123.0, 125.9, 126.21, 126.21], \"yaxis\": \"y\"}, {\"type\": \"scatter\", \"x\": [\"2021-04-08T00:00:00\", \"2021-04-09T00:00:00\", \"2021-04-10T00:00:00\", \"2021-04-11T00:00:00\", \"2021-04-12T00:00:00\", \"2021-04-13T00:00:00\", \"2021-04-14T00:00:00\", \"2021-04-15T00:00:00\", \"2021-04-16T00:00:00\", \"2021-04-17T00:00:00\", \"2021-04-18T00:00:00\", \"2021-04-19T00:00:00\", \"2021-04-20T00:00:00\", \"2021-04-21T00:00:00\", \"2021-04-22T00:00:00\", \"2021-04-23T00:00:00\", \"2021-04-24T00:00:00\", \"2021-04-25T00:00:00\", \"2021-04-26T00:00:00\", \"2021-04-27T00:00:00\", \"2021-04-28T00:00:00\", \"2021-04-29T00:00:00\", \"2021-04-30T00:00:00\", \"2021-05-01T00:00:00\", \"2021-05-02T00:00:00\", \"2021-05-03T00:00:00\", \"2021-05-04T00:00:00\", \"2021-05-05T00:00:00\", \"2021-05-06T00:00:00\", \"2021-05-07T00:00:00\"], \"y\": [127.60115774899303, 128.37981003852525, 127.97323217037516, 124.9600261082929, 125.66571917905347, 126.02632048556646, 125.99998236011979, 127.81800518249726, 127.3342833952585, 127.31309072100372, 127.70519338015761, 128.02121292108959, 128.68807263913723, 129.0326642644222, 128.92819239668856, 126.72372223445498, 128.24941340665617, 128.8584501886087, 128.8298473212424, 129.64639611506485, 129.40889685936006, 130.95518154896706, 131.28751672129513, 131.41731477408177, 132.52507817109083, 133.10164240275847, 132.82439688092666, 130.17044412624284, 131.23955444681522, 131.70126015706688]}],                        {\"legend\": {\"tracegroupgap\": 0}, \"showlegend\": false, \"template\": {\"data\": {\"bar\": [{\"error_x\": {\"color\": \"#2a3f5f\"}, \"error_y\": {\"color\": \"#2a3f5f\"}, \"marker\": {\"line\": {\"color\": \"#E5ECF6\", \"width\": 0.5}}, \"type\": \"bar\"}], \"barpolar\": [{\"marker\": {\"line\": {\"color\": \"#E5ECF6\", \"width\": 0.5}}, \"type\": \"barpolar\"}], \"carpet\": [{\"aaxis\": {\"endlinecolor\": \"#2a3f5f\", \"gridcolor\": \"white\", \"linecolor\": \"white\", \"minorgridcolor\": \"white\", \"startlinecolor\": \"#2a3f5f\"}, \"baxis\": {\"endlinecolor\": \"#2a3f5f\", \"gridcolor\": \"white\", \"linecolor\": \"white\", \"minorgridcolor\": \"white\", \"startlinecolor\": \"#2a3f5f\"}, \"type\": \"carpet\"}], \"choropleth\": [{\"colorbar\": {\"outlinewidth\": 0, \"ticks\": \"\"}, \"type\": \"choropleth\"}], \"contour\": [{\"colorbar\": {\"outlinewidth\": 0, \"ticks\": \"\"}, \"colorscale\": [[0.0, \"#0d0887\"], [0.1111111111111111, \"#46039f\"], [0.2222222222222222, \"#7201a8\"], [0.3333333333333333, \"#9c179e\"], [0.4444444444444444, \"#bd3786\"], [0.5555555555555556, \"#d8576b\"], [0.6666666666666666, \"#ed7953\"], [0.7777777777777778, \"#fb9f3a\"], [0.8888888888888888, \"#fdca26\"], [1.0, \"#f0f921\"]], \"type\": \"contour\"}], \"contourcarpet\": [{\"colorbar\": {\"outlinewidth\": 0, \"ticks\": \"\"}, \"type\": \"contourcarpet\"}], \"heatmap\": [{\"colorbar\": {\"outlinewidth\": 0, \"ticks\": \"\"}, \"colorscale\": [[0.0, \"#0d0887\"], [0.1111111111111111, \"#46039f\"], [0.2222222222222222, \"#7201a8\"], [0.3333333333333333, \"#9c179e\"], [0.4444444444444444, \"#bd3786\"], [0.5555555555555556, \"#d8576b\"], [0.6666666666666666, \"#ed7953\"], [0.7777777777777778, \"#fb9f3a\"], [0.8888888888888888, \"#fdca26\"], [1.0, \"#f0f921\"]], \"type\": \"heatmap\"}], \"heatmapgl\": [{\"colorbar\": {\"outlinewidth\": 0, \"ticks\": \"\"}, \"colorscale\": [[0.0, \"#0d0887\"], [0.1111111111111111, \"#46039f\"], [0.2222222222222222, \"#7201a8\"], [0.3333333333333333, \"#9c179e\"], [0.4444444444444444, \"#bd3786\"], [0.5555555555555556, \"#d8576b\"], [0.6666666666666666, \"#ed7953\"], [0.7777777777777778, \"#fb9f3a\"], [0.8888888888888888, \"#fdca26\"], [1.0, \"#f0f921\"]], \"type\": \"heatmapgl\"}], \"histogram\": [{\"marker\": {\"colorbar\": {\"outlinewidth\": 0, \"ticks\": \"\"}}, \"type\": \"histogram\"}], \"histogram2d\": [{\"colorbar\": {\"outlinewidth\": 0, \"ticks\": \"\"}, \"colorscale\": [[0.0, \"#0d0887\"], [0.1111111111111111, \"#46039f\"], [0.2222222222222222, \"#7201a8\"], [0.3333333333333333, \"#9c179e\"], [0.4444444444444444, \"#bd3786\"], [0.5555555555555556, \"#d8576b\"], [0.6666666666666666, \"#ed7953\"], [0.7777777777777778, \"#fb9f3a\"], [0.8888888888888888, \"#fdca26\"], [1.0, \"#f0f921\"]], \"type\": \"histogram2d\"}], \"histogram2dcontour\": [{\"colorbar\": {\"outlinewidth\": 0, \"ticks\": \"\"}, \"colorscale\": [[0.0, \"#0d0887\"], [0.1111111111111111, \"#46039f\"], [0.2222222222222222, \"#7201a8\"], [0.3333333333333333, \"#9c179e\"], [0.4444444444444444, \"#bd3786\"], [0.5555555555555556, \"#d8576b\"], [0.6666666666666666, \"#ed7953\"], [0.7777777777777778, \"#fb9f3a\"], [0.8888888888888888, \"#fdca26\"], [1.0, \"#f0f921\"]], \"type\": \"histogram2dcontour\"}], \"mesh3d\": [{\"colorbar\": {\"outlinewidth\": 0, \"ticks\": \"\"}, \"type\": \"mesh3d\"}], \"parcoords\": [{\"line\": {\"colorbar\": {\"outlinewidth\": 0, \"ticks\": \"\"}}, \"type\": \"parcoords\"}], \"pie\": [{\"automargin\": true, \"type\": \"pie\"}], \"scatter\": [{\"marker\": {\"colorbar\": {\"outlinewidth\": 0, \"ticks\": \"\"}}, \"type\": \"scatter\"}], \"scatter3d\": [{\"line\": {\"colorbar\": {\"outlinewidth\": 0, \"ticks\": \"\"}}, \"marker\": {\"colorbar\": {\"outlinewidth\": 0, \"ticks\": \"\"}}, \"type\": \"scatter3d\"}], \"scattercarpet\": [{\"marker\": {\"colorbar\": {\"outlinewidth\": 0, \"ticks\": \"\"}}, \"type\": \"scattercarpet\"}], \"scattergeo\": [{\"marker\": {\"colorbar\": {\"outlinewidth\": 0, \"ticks\": \"\"}}, \"type\": \"scattergeo\"}], \"scattergl\": [{\"marker\": {\"colorbar\": {\"outlinewidth\": 0, \"ticks\": \"\"}}, \"type\": \"scattergl\"}], \"scattermapbox\": [{\"marker\": {\"colorbar\": {\"outlinewidth\": 0, \"ticks\": \"\"}}, \"type\": \"scattermapbox\"}], \"scatterpolar\": [{\"marker\": {\"colorbar\": {\"outlinewidth\": 0, \"ticks\": \"\"}}, \"type\": \"scatterpolar\"}], \"scatterpolargl\": [{\"marker\": {\"colorbar\": {\"outlinewidth\": 0, \"ticks\": \"\"}}, \"type\": \"scatterpolargl\"}], \"scatterternary\": [{\"marker\": {\"colorbar\": {\"outlinewidth\": 0, \"ticks\": \"\"}}, \"type\": \"scatterternary\"}], \"surface\": [{\"colorbar\": {\"outlinewidth\": 0, \"ticks\": \"\"}, \"colorscale\": [[0.0, \"#0d0887\"], [0.1111111111111111, \"#46039f\"], [0.2222222222222222, \"#7201a8\"], [0.3333333333333333, \"#9c179e\"], [0.4444444444444444, \"#bd3786\"], [0.5555555555555556, \"#d8576b\"], [0.6666666666666666, \"#ed7953\"], [0.7777777777777778, \"#fb9f3a\"], [0.8888888888888888, \"#fdca26\"], [1.0, \"#f0f921\"]], \"type\": \"surface\"}], \"table\": [{\"cells\": {\"fill\": {\"color\": \"#EBF0F8\"}, \"line\": {\"color\": \"white\"}}, \"header\": {\"fill\": {\"color\": \"#C8D4E3\"}, \"line\": {\"color\": \"white\"}}, \"type\": \"table\"}]}, \"layout\": {\"annotationdefaults\": {\"arrowcolor\": \"#2a3f5f\", \"arrowhead\": 0, \"arrowwidth\": 1}, \"autotypenumbers\": \"strict\", \"coloraxis\": {\"colorbar\": {\"outlinewidth\": 0, \"ticks\": \"\"}}, \"colorscale\": {\"diverging\": [[0, \"#8e0152\"], [0.1, \"#c51b7d\"], [0.2, \"#de77ae\"], [0.3, \"#f1b6da\"], [0.4, \"#fde0ef\"], [0.5, \"#f7f7f7\"], [0.6, \"#e6f5d0\"], [0.7, \"#b8e186\"], [0.8, \"#7fbc41\"], [0.9, \"#4d9221\"], [1, \"#276419\"]], \"sequential\": [[0.0, \"#0d0887\"], [0.1111111111111111, \"#46039f\"], [0.2222222222222222, \"#7201a8\"], [0.3333333333333333, \"#9c179e\"], [0.4444444444444444, \"#bd3786\"], [0.5555555555555556, \"#d8576b\"], [0.6666666666666666, \"#ed7953\"], [0.7777777777777778, \"#fb9f3a\"], [0.8888888888888888, \"#fdca26\"], [1.0, \"#f0f921\"]], \"sequentialminus\": [[0.0, \"#0d0887\"], [0.1111111111111111, \"#46039f\"], [0.2222222222222222, \"#7201a8\"], [0.3333333333333333, \"#9c179e\"], [0.4444444444444444, \"#bd3786\"], [0.5555555555555556, \"#d8576b\"], [0.6666666666666666, \"#ed7953\"], [0.7777777777777778, \"#fb9f3a\"], [0.8888888888888888, \"#fdca26\"], [1.0, \"#f0f921\"]]}, \"colorway\": [\"#636efa\", \"#EF553B\", \"#00cc96\", \"#ab63fa\", \"#FFA15A\", \"#19d3f3\", \"#FF6692\", \"#B6E880\", \"#FF97FF\", \"#FECB52\"], \"font\": {\"color\": \"#2a3f5f\"}, \"geo\": {\"bgcolor\": \"white\", \"lakecolor\": \"white\", \"landcolor\": \"#E5ECF6\", \"showlakes\": true, \"showland\": true, \"subunitcolor\": \"white\"}, \"hoverlabel\": {\"align\": \"left\"}, \"hovermode\": \"closest\", \"mapbox\": {\"style\": \"light\"}, \"paper_bgcolor\": \"white\", \"plot_bgcolor\": \"#E5ECF6\", \"polar\": {\"angularaxis\": {\"gridcolor\": \"white\", \"linecolor\": \"white\", \"ticks\": \"\"}, \"bgcolor\": \"#E5ECF6\", \"radialaxis\": {\"gridcolor\": \"white\", \"linecolor\": \"white\", \"ticks\": \"\"}}, \"scene\": {\"xaxis\": {\"backgroundcolor\": \"#E5ECF6\", \"gridcolor\": \"white\", \"gridwidth\": 2, \"linecolor\": \"white\", \"showbackground\": true, \"ticks\": \"\", \"zerolinecolor\": \"white\"}, \"yaxis\": {\"backgroundcolor\": \"#E5ECF6\", \"gridcolor\": \"white\", \"gridwidth\": 2, \"linecolor\": \"white\", \"showbackground\": true, \"ticks\": \"\", \"zerolinecolor\": \"white\"}, \"zaxis\": {\"backgroundcolor\": \"#E5ECF6\", \"gridcolor\": \"white\", \"gridwidth\": 2, \"linecolor\": \"white\", \"showbackground\": true, \"ticks\": \"\", \"zerolinecolor\": \"white\"}}, \"shapedefaults\": {\"line\": {\"color\": \"#2a3f5f\"}}, \"ternary\": {\"aaxis\": {\"gridcolor\": \"white\", \"linecolor\": \"white\", \"ticks\": \"\"}, \"baxis\": {\"gridcolor\": \"white\", \"linecolor\": \"white\", \"ticks\": \"\"}, \"bgcolor\": \"#E5ECF6\", \"caxis\": {\"gridcolor\": \"white\", \"linecolor\": \"white\", \"ticks\": \"\"}}, \"title\": {\"x\": 0.05}, \"xaxis\": {\"automargin\": true, \"gridcolor\": \"white\", \"linecolor\": \"white\", \"ticks\": \"\", \"title\": {\"standoff\": 15}, \"zerolinecolor\": \"white\", \"zerolinewidth\": 2}, \"yaxis\": {\"automargin\": true, \"gridcolor\": \"white\", \"linecolor\": \"white\", \"ticks\": \"\", \"title\": {\"standoff\": 15}, \"zerolinecolor\": \"white\", \"zerolinewidth\": 2}}}, \"title\": {\"text\": \"Closing Price Prediction\"}, \"xaxis\": {\"anchor\": \"y\", \"domain\": [0.0, 1.0], \"title\": {\"text\": \"Date\"}}, \"yaxis\": {\"anchor\": \"x\", \"domain\": [0.0, 1.0], \"title\": {\"text\": \"Closing Price\"}}},                        {\"responsive\": true}                    ).then(function(){\n",
       "                            \n",
       "var gd = document.getElementById('9b4947b8-af57-4c73-9d6e-e80ba1455dca');\n",
       "var x = new MutationObserver(function (mutations, observer) {{\n",
       "        var display = window.getComputedStyle(gd).display;\n",
       "        if (!display || display === 'none') {{\n",
       "            console.log([gd, 'removed!']);\n",
       "            Plotly.purge(gd);\n",
       "            observer.disconnect();\n",
       "        }}\n",
       "}});\n",
       "\n",
       "// Listen for the removal of the full notebook cells\n",
       "var notebookContainer = gd.closest('#notebook-container');\n",
       "if (notebookContainer) {{\n",
       "    x.observe(notebookContainer, {childList: true});\n",
       "}}\n",
       "\n",
       "// Listen for the clearing of the current output cell\n",
       "var outputEl = gd.closest('.output');\n",
       "if (outputEl) {{\n",
       "    x.observe(outputEl, {childList: true});\n",
       "}}\n",
       "\n",
       "                        })                };                });            </script>        </div>"
      ]
     },
     "metadata": {},
     "output_type": "display_data"
    }
   ],
   "source": [
    "# Plotly version\n",
    "\n",
    "import plotly.express as px\n",
    "\n",
    "fig = px.line(x=y.index, y=y.values, title=\"Closing Price Prediction\", labels=dict(x=\"Date\", y=\"Closing Price\", color=\"Place\"))\n",
    "fig.add_scatter(x=pred_ci.index, y=pred_ci['lower c'])\n",
    "fig.update_layout(showlegend=False)\n",
    "fig.show()"
   ]
  },
  {
   "cell_type": "code",
   "execution_count": null,
   "metadata": {},
   "outputs": [],
   "source": []
  }
 ],
 "metadata": {
  "kernelspec": {
   "display_name": "Python 3",
   "language": "python",
   "name": "python3"
  },
  "language_info": {
   "codemirror_mode": {
    "name": "ipython",
    "version": 3
   },
   "file_extension": ".py",
   "mimetype": "text/x-python",
   "name": "python",
   "nbconvert_exporter": "python",
   "pygments_lexer": "ipython3",
   "version": "3.7.10"
  }
 },
 "nbformat": 4,
 "nbformat_minor": 2
}
