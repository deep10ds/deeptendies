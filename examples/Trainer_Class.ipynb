{
  "nbformat": 4,
  "nbformat_minor": 0,
  "metadata": {
    "colab": {
      "name": "Trainer Class.ipynb",
      "provenance": [],
      "collapsed_sections": []
    },
    "kernelspec": {
      "name": "python3",
      "display_name": "Python 3"
    },
    "language_info": {
      "name": "python"
    }
  },
  "cells": [
    {
      "cell_type": "code",
      "metadata": {
        "id": "uxyyLiPMp_2Z"
      },
      "source": [
        "import matplotlib.pylab as plt\n",
        "import numpy as np\n",
        "import tensorflow as tf\n",
        "from sklearn.model_selection import train_test_split\n",
        "import os\n",
        "import shutil\t\n",
        "from tensorflow.keras.layers.experimental.preprocessing import Rescaling\n",
        "from tensorflow.keras.layers.experimental.preprocessing import Normalization\n",
        "from google.colab import drive"
      ],
      "execution_count": null,
      "outputs": []
    },
    {
      "cell_type": "code",
      "metadata": {
        "id": "7Ig64thJqBj4"
      },
      "source": [
        "import matplotlib.pylab as plt\n",
        "import numpy as np\n",
        "import tensorflow as tf\n",
        "from sklearn.model_selection import train_test_split\n",
        "import os\n",
        "import shutil\t\n",
        "from tensorflow.keras.layers.experimental.preprocessing import Rescaling\n",
        "from tensorflow.keras.layers.experimental.preprocessing import Normalization\n",
        "from google.colab import drive\n",
        "\n",
        "\n",
        "class Trainer():\n",
        "  def __init__(self, save_location, model, model_name):\n",
        "    self.dir_location = save_location\n",
        "    self.model = model\n",
        "    self.model_name = model_name\n",
        "\n",
        "  def split_data(self, X_dev, Y_dev, train_size):\n",
        "    print(\"SPLITING DATA SET\")\n",
        "    self.X_train, self.X_val, self.Y_train, self.Y_val = train_test_split(X_dev, Y_dev, train_size=train_size)\n",
        "\n",
        "  def train_model(self, batch_size, epochs, verbose, callbacks):\n",
        "    print(\"TRAINING\")\n",
        "    self.model.fit(self.X_train, self.Y_train, batch_size, epochs, verbose, callbacks, validation_data=(self.X_val, self.Y_val))\n",
        "    self.graph_results()\n",
        "\n",
        "  def graph_results(self):\n",
        "    history = self.model.history\n",
        "    train_acc = history.history['accuracy']\n",
        "    val_acc = history.history['val_accuracy']\n",
        "\n",
        "    fig, ax = plt.subplots(figsize=(18,12))\n",
        "    train_ax = ax.scatter(x=range(len(train_acc)), y=train_acc, label=\"Training Accuracy\")\n",
        "    val_ax = ax.scatter(x=range(len(train_acc)), y=val_acc, label=\"Validation Accuracy\")\n",
        "    legend = ax.legend()\n",
        "    fig.suptitle(\"Min/Max Normalized FCNN Accuracy vs. Epoch\")\n",
        "    plt.xlabel(\"Epoch\")\n",
        "    plt.ylabel(\"Accuracy\")\n",
        "    fig.show()\n",
        "\n",
        "  def save_model(self):\n",
        "    drive.mount('/content/drive')\n",
        "    self.model.save(self.model_name) \n",
        "    os.listdir()\n",
        "    for f in os.listdir(): \n",
        "      if (len(f.split(\".\")) == 1): \n",
        "        continue\n",
        "      if f.split(\".\")[1] ==\"h5\":\n",
        "        shutil.copyfile(f, self.dir_location + f)"
      ],
      "execution_count": null,
      "outputs": []
    },
    {
      "cell_type": "code",
      "metadata": {
        "colab": {
          "base_uri": "https://localhost:8080/"
        },
        "id": "eAwDl38WqJCr",
        "outputId": "b3cf67c9-2e18-4dec-a83d-dc8dd5fa6423"
      },
      "source": [
        "# Prepare data\n",
        "(X_dev, Y_dev), (X_test, Y_test) = tf.keras.datasets.cifar10.load_data()\n",
        "from tensorflow.keras.utils import to_categorical\n",
        "Y_dev_ohe = to_categorical(Y_dev)\n",
        "Y_test_ohe = to_categorical(Y_test)\n",
        "\n",
        "print(f\"Shape of one-hot encoded labels: {np.shape(Y_dev_ohe)}\")\n",
        "print(f\"Min/max values of one-hot encoded labels: {Y_dev_ohe.min()} / {Y_dev_ohe.max()}\")\n",
        "\n",
        "def get_scaled_feature_tensor(x, norm_type=0):\n",
        "  \"\"\"Function to get scaled feature matrix. \n",
        "    Use norm_type=0 for min,max scaler and norm_type==1 for standard scaler\n",
        "    TODO: Wrap into model for end-to-end solution \n",
        "    TODO: Experiment with normalization over different axis -> eg., Normalization(axis=1) gives normalization by row, axis=2 normalization by column, and axis = 3 normalization by channel. \n",
        "  \"\"\" \n",
        "  if norm_type == 0: \n",
        "    scaled_tensor = Rescaling(scale=1.0/255)(x)\n",
        "  elif norm_type == 1: \n",
        "    norm_layer = Normalization(axis=None)\n",
        "    norm_layer.adapt(x)\n",
        "    scaled_tensor = norm_layer(x)\n",
        "  return scaled_tensor\n",
        "\n",
        "X_norm_min_max = get_scaled_feature_tensor(X_dev, 0)\n",
        "X_norm_std_scaler = get_scaled_feature_tensor(X_dev, 1)\n",
        "\n",
        "manual_scaler = [(x-X_dev.mean())/X_dev.std() for x in X_dev[0][0][0]]\n",
        "\n",
        "# define model\n",
        "def model(input_shape=(32,32,3), k=10, lr=1e-4, norm_type=0):\n",
        "  model_input = tf.keras.layers.Input(shape=input_shape)\n",
        "  norm_input = get_scaled_feature_tensor(model_input, norm_type)\n",
        "  model_input_flatten = tf.keras.layers.Flatten()(norm_input)\n",
        "  hidden1 = tf.keras.layers.Dense(64,activation='relu')(model_input_flatten)\n",
        "  hidden2 = tf.keras.layers.Dense(1024,activation='relu')(hidden1)\n",
        "  out = tf.keras.layers.Dense(k, activation='softmax')(hidden2)\n",
        "  model = tf.keras.models.Model(inputs = model_input, outputs =out)\n",
        "  model.compile(optimizer=tf.keras.optimizers.SGD(learning_rate=lr, momentum=0.5), loss='categorical_crossentropy', metrics=['accuracy'])\n",
        "  return model  \n",
        "\n",
        "model1 = model()\n",
        "model_name_fcn_ = \"model1.h5\"\n",
        "\n",
        "# define callbacks\n",
        "early_stop = tf.keras.callbacks.EarlyStopping(monitor='val_loss', patience=50)\n",
        "monitor = tf.keras.callbacks.ModelCheckpoint(\n",
        "    model_name_fcn_, monitor='val_loss',\n",
        "    verbose=0,save_best_only=True,\n",
        "    save_weights_only=True,\n",
        "    mode='min')\n",
        "\n",
        "# Learning rate schedule\n",
        "def scheduler(epoch, lr):\n",
        "  if epoch%100 == 0:\n",
        "      lr = lr/2\n",
        "  return lr\n",
        "\n",
        "lr_schedule = tf.keras.callbacks.LearningRateScheduler(scheduler,verbose = 0)\n",
        "\n",
        "\t"
      ],
      "execution_count": null,
      "outputs": [
        {
          "output_type": "stream",
          "text": [
            "Downloading data from https://www.cs.toronto.edu/~kriz/cifar-10-python.tar.gz\n",
            "170500096/170498071 [==============================] - 2s 0us/step\n",
            "Shape of one-hot encoded labels: (50000, 10)\n",
            "Min/max values of one-hot encoded labels: 0.0 / 1.0\n"
          ],
          "name": "stdout"
        }
      ]
    },
    {
      "cell_type": "code",
      "metadata": {
        "colab": {
          "base_uri": "https://localhost:8080/",
          "height": 869
        },
        "id": "Hh25UBlkqQ27",
        "outputId": "fa7c08d6-f295-4d8b-94eb-8149a2663773"
      },
      "source": [
        "arnold = Trainer(save_location=\"./drive/MyDrive/enel645-team-drive/Final-Project/saved-models/\", model=model1, model_name=model_name_fcn_)\n",
        "arnold.split_data(X_dev=X_dev, Y_dev=Y_dev_ohe, train_size=0.8)\n",
        "arnold.train_model(batch_size=32, epochs=1, verbose=1, callbacks=[early_stop, monitor, lr_schedule])\n",
        "arnold.save_model()\n",
        "\n"
      ],
      "execution_count": null,
      "outputs": [
        {
          "output_type": "stream",
          "text": [
            "SPLITING DATA SET\n",
            "TRAINING\n",
            "1250/1250 [==============================] - 7s 5ms/step - loss: 2.3000 - accuracy: 0.1235 - val_loss: 2.2833 - val_accuracy: 0.1500\n",
            "Mounted at /content/drive\n"
          ],
          "name": "stdout"
        },
        {
          "output_type": "display_data",
          "data": {
            "image/png": "[encoded data removed]",
            "text/plain": [
              "<Figure size 1296x864 with 1 Axes>"
            ]
          },
          "metadata": {
            "tags": [],
            "needs_background": "light"
          }
        }
      ]
    },
    {
      "cell_type": "code",
      "metadata": {
        "id": "_6FbCXG58qRn"
      },
      "source": [],
      "execution_count": null,
      "outputs": []
    }
  ]
}